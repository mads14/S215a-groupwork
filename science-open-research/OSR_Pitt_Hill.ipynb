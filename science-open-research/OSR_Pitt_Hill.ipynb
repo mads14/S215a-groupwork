{
 "cells": [
  {
   "cell_type": "markdown",
   "metadata": {},
   "source": [
    "## Introduction\n",
    "Directly editted in the shared LaTex doc. Please feel free to review and revise! :)"
   ]
  },
  {
   "cell_type": "markdown",
   "metadata": {},
   "source": [
    "## Reading data"
   ]
  },
  {
   "cell_type": "code",
   "execution_count": 1,
   "metadata": {
    "collapsed": true
   },
   "outputs": [],
   "source": [
    "from __future__ import division\n",
    "import matplotlib.pyplot as plt\n",
    "import pandas as pd\n",
    "import numpy as np\n",
    "import scipy.stats as stats\n",
    "import itertools\n",
    "import random\n",
    "%matplotlib inline"
   ]
  },
  {
   "cell_type": "code",
   "execution_count": 2,
   "metadata": {
    "collapsed": false
   },
   "outputs": [],
   "source": [
    "# Reading data\n",
    "biyashee_colony_cnts = pd.read_csv('data/Bishayee Colony Counts 10.27.97-3.8.01.csv', skiprows=2)\n",
    "biyashee_coulter_cnts = pd.read_csv('data/Bishayee Coulter Counts.10.20.97-7.16.01.csv', skiprows=1)\n",
    "other_colony_cnts = pd.read_csv('data/Other Investigators in Lab.Colony Counts.4.23.92-11.27.02.csv', skiprows=1)\n",
    "other_coulter_cnts = pd.read_csv('data/Other Investigators in Lab.Coulter Counts.4.15.92-5.21.05.csv', skiprows=1)\n",
    "outside_coulter_cnts1 = pd.read_csv('data/Outside Lab 1.Coulter Counts.6.7.91-4.9.99.csv')\n",
    "outside_coulter_cnts2 = pd.read_csv('data/Outside Lab 2.Coulter Counts.6.6.08-7.7.08.csv', skiprows=1)\n",
    "outside_colony_cnts =  pd.read_csv('data/Outside Lab 3.Colony Counts.2.4.10-5.21.12.csv', skiprows=1)\n",
    "\n",
    "# standardizing column names for dataframes\n",
    "biyashee_colony_cnts.columns = ['Isotope', 'Bates', 'Date', 'c1', 'c2', 'c3', 'avg']\n",
    "biyashee_coulter_cnts.columns = ['Bates', 'Date', 'c1', 'c2', 'c3', 'avg']\n",
    "other_colony_cnts.columns = ['Bates', 'Date', 'Inv', 'c1', 'c2', 'c3', 'avg']\n",
    "other_coulter_cnts.columns = ['Bates', 'Date', 'c1', 'c2', 'c3', 'avg', 'Inv']\n",
    "outside_coulter_cnts1.columns = ['Experiment', 'c1', 'c2', 'c3', 'avg', 'Date']\n",
    "outside_coulter_cnts2.columns = ['Date', 'c1', 'c2', 'c3', 'avg']\n",
    "outside_colony_cnts.columns = ['Date', 'c1', 'c2', 'c3', 'avg']\n",
    "\n",
    "# converting to numerics\n",
    "biyashee_colony_cnts['c3'] = pd.to_numeric(biyashee_colony_cnts['c3'], errors = 'coerce')\n",
    "other_colony_cnts['c3'] = pd.to_numeric(other_colony_cnts['c3'], errors = 'coerce')\n",
    "\n",
    "# filling in experiment and date info\n",
    "def fill_na(df, column):\n",
    "    df[column] = df[column].fillna(method='ffill')\n",
    "\n",
    "fill_na(outside_coulter_cnts1, 'Experiment')\n",
    "fill_na(outside_coulter_cnts1, 'Date')\n",
    "fill_na(outside_coulter_cnts2, 'Date')\n",
    "fill_na(outside_colony_cnts, 'Date')"
   ]
  },
  {
   "cell_type": "markdown",
   "metadata": {},
   "source": [
    "## Replicate Table 1 by Simulation"
   ]
  },
  {
   "cell_type": "code",
   "execution_count": 3,
   "metadata": {
    "collapsed": false
   },
   "outputs": [],
   "source": [
    "def MidProb(Lambda):\n",
    "    j = 0\n",
    "    N = 10000\n",
    "    gap = 2\n",
    "    for i in range(N):\n",
    "        a = np.random.poisson(Lambda, 3)\n",
    "        if max(a) - min(a) >= gap:\n",
    "            if int(round(a.mean(),0)) in a:\n",
    "                j += 1\n",
    "        else:\n",
    "            pass\n",
    "    return j/N"
   ]
  },
  {
   "cell_type": "markdown",
   "metadata": {},
   "source": [
    "## Triplicate Mean Count\n",
    "### Replication\n",
    "#### Hypothesis Testing 1"
   ]
  },
  {
   "cell_type": "code",
   "execution_count": 4,
   "metadata": {
    "collapsed": false
   },
   "outputs": [
    {
     "name": "stdout",
     "output_type": "stream",
     "text": [
      "RTS data:  2.853E-12\n",
      "Rest of the lab:  1.000E+00\n"
     ]
    }
   ],
   "source": [
    "p = 0.42\n",
    "\n",
    "n_triplicate_containing_avg = 690\n",
    "n_samples = 1343\n",
    "prob = stats.binom.sf(n_triplicate_containing_avg - 1, n_samples, p)\n",
    "print 'RTS data: ', format(prob, '1.3E')\n",
    "\n",
    "n_triplicate_containing_avg = 109\n",
    "n_samples = 572\n",
    "prob = stats.binom.sf(n_triplicate_containing_avg - 1, n_samples, p)\n",
    "print 'Rest of the lab: ', format(prob, '1.3E')"
   ]
  },
  {
   "cell_type": "markdown",
   "metadata": {},
   "source": [
    "#### Hypothesis Testing II"
   ]
  },
  {
   "cell_type": "code",
   "execution_count": 5,
   "metadata": {
    "collapsed": false
   },
   "outputs": [],
   "source": [
    "# pool all samples for triplicate testing:\n",
    "def triplicate_pool_all_samples(dfs):\n",
    "    samples = dfs[0][['c1', 'c2', 'c3']]\n",
    "    for df in dfs[1:]:\n",
    "        samples = samples.append(df[['c1', 'c2', 'c3']], ignore_index=True)\n",
    "    return samples\n",
    "\n",
    "coulter_dfs = [biyashee_coulter_cnts,\n",
    "               other_coulter_cnts,\n",
    "               outside_coulter_cnts1,\n",
    "               outside_coulter_cnts2]\n",
    "\n",
    "colony_dfs = [biyashee_colony_cnts,\n",
    "              other_colony_cnts,\n",
    "              outside_colony_cnts]\n",
    "\n",
    "coulter_samples = triplicate_pool_all_samples(coulter_dfs)\n",
    "colony_samples = triplicate_pool_all_samples(colony_dfs)"
   ]
  },
  {
   "cell_type": "code",
   "execution_count": 20,
   "metadata": {
    "collapsed": false
   },
   "outputs": [],
   "source": [
    "test_sampe = triplicate_pool_all_samples([biyashee_colony_cnts])"
   ]
  },
  {
   "cell_type": "markdown",
   "metadata": {},
   "source": [
    "Step 2. Calculate the average and check if each triplicate contains the mean for the pooled samples."
   ]
  },
  {
   "cell_type": "code",
   "execution_count": 7,
   "metadata": {
    "collapsed": false
   },
   "outputs": [],
   "source": [
    "import warnings\n",
    "warnings.filterwarnings('ignore')\n",
    "\n",
    "def contains_mean(df_row):\n",
    "    '''returns true if any of c1, c2 or c3 equals the triplicate average '''\n",
    "    return (df_row['mean'] == df_row['c1'] or \n",
    "            df_row['mean'] == df_row['c2'] or \n",
    "            df_row['mean'] == df_row['c3'])\n",
    "\n",
    "# clean up data and add a new column to the data frame indicating if the triplicate contains its rounded mean\n",
    "def triplicate_has_mean(df):\n",
    "    '''append df with an extra column of booleans indicating if each row of triplicate contains its own mean'''\n",
    "    # drop NA values and convert c1, c2, c3 to int type\n",
    "    df = df.dropna()\n",
    "    df[['c1', 'c2', 'c3']] = df[['c1', 'c2', 'c3']].astype(int)\n",
    "    \n",
    "    # calculate mean and append a new column of mean values to df\n",
    "    df['mean'] = df.mean(axis=1).round(0).astype(int)\n",
    "\n",
    "    # calculate if each row of triplicate contains its own mean and append a new boolean column to df\n",
    "    # df['contains_mean'] = df.apply(lambda x: contains_mean(x), axis=1)\n",
    "    df['contains_mean'] = df.apply(contains_mean, axis=1)\n",
    "    \n",
    "    return df\n",
    "\n",
    "coulter_samples_mean = triplicate_has_mean(coulter_samples)\n",
    "colony_samples_mean = triplicate_has_mean(colony_samples)"
   ]
  },
  {
   "cell_type": "code",
   "execution_count": 25,
   "metadata": {
    "collapsed": false
   },
   "outputs": [
    {
     "data": {
      "text/plain": [
       "708"
      ]
     },
     "execution_count": 25,
     "metadata": {},
     "output_type": "execute_result"
    }
   ],
   "source": [
    "test_sampe_mean = triplicate_has_mean(test_sampe)\n",
    "sum(test_sampe_mean[\"contains_mean\"])"
   ]
  },
  {
   "cell_type": "markdown",
   "metadata": {},
   "source": [
    "Step 3. Permutation test for triplicate count test."
   ]
  },
  {
   "cell_type": "code",
   "execution_count": 14,
   "metadata": {
    "collapsed": false
   },
   "outputs": [],
   "source": [
    "def tri_perm_test_sampling(pooled_samples, n, n_perm, test_statistic):\n",
    "    '''permutation test for triplicate mean counts'''\n",
    "    x = []\n",
    "    for i in range(n_perm):\n",
    "        x.append(sum(random.sample(pooled_samples, n)))\n",
    "    x = np.asarray(x)\n",
    "    print (\"Ploting permutation histogram with random \", n_perm, \" samplings\")\n",
    "    plt.hist(x, bins=100)\n",
    "    plt.show()\n",
    "    print (\"maximum values in the permutation sampling: \", max(x))\n",
    "\n",
    "    return np.count_nonzero(x >= test_statistic) / float(len(x))\n",
    "\n",
    "def tri_perm_test_theoretical(pooled_samples, n, test_statistic):\n",
    "    '''permutation test for triplicate mean counts\n",
    "    pooled_samples should be a series'''\n",
    "    \n",
    "    # rv is the hypergeometric variable in question\n",
    "    rv = stats.hypergeom(pooled_samples.size, pooled_samples.sum(), n)\n",
    "    \n",
    "    # Plotting a sample draw (optional)\n",
    "    (lower, upper) = rv.interval(0.9999)\n",
    "    x = np.arange(lower, upper)\n",
    "    print (\"Ploting hypergeometric pmf with n equal to \", n)\n",
    "    plt.plot(x, rv.pmf(x))\n",
    "    plt.show()\n",
    "    \n",
    "    # pooled_samples.size is the total number of triplets\n",
    "    # pooled_samples.sum() is the number of marked triplets\n",
    "    # n is the number of sampels drawn\n",
    "    return rv.sf(test_statistic - 1)"
   ]
  },
  {
   "cell_type": "markdown",
   "metadata": {},
   "source": [
    "Step 4a. Perform the permutation test on coulter samples."
   ]
  },
  {
   "cell_type": "code",
   "execution_count": 18,
   "metadata": {
    "collapsed": false
   },
   "outputs": [
    {
     "name": "stdout",
     "output_type": "stream",
     "text": [
      "('Ploting hypergeometric pmf with n equal to ', 1729)\n"
     ]
    },
    {
     "data": {
      "image/png": "[encoded data removed]",
      "text/plain": [
       "<matplotlib.figure.Figure at 0x11a9c2790>"
      ]
     },
     "metadata": {},
     "output_type": "display_data"
    }
   ],
   "source": [
    "# values of n and test_statistic are obtained from PNAS paper Table 2 (pg 7)\n",
    "n = 1729\n",
    "test_statistic = 177\n",
    "n_perm = 10000\n",
    "\n",
    "# permutation test on coulter samples (and plot the distribution histogram)\n",
    "test_result_theory = tri_perm_test_theoretical(coulter_samples_mean['contains_mean'], n, test_statistic)"
   ]
  },
  {
   "cell_type": "code",
   "execution_count": 19,
   "metadata": {
    "collapsed": false
   },
   "outputs": [
    {
     "name": "stdout",
     "output_type": "stream",
     "text": [
      "('Ploting permutation histogram with random ', 10000, ' samplings')\n"
     ]
    },
    {
     "data": {
      "image/png": "[encoded data removed]",
      "text/plain": [
       "<matplotlib.figure.Figure at 0x11aa13a90>"
      ]
     },
     "metadata": {},
     "output_type": "display_data"
    },
    {
     "name": "stdout",
     "output_type": "stream",
     "text": [
      "('maximum values in the permutation sampling: ', 155)\n",
      "Permutation Test on Coulter Samples\n",
      "Size of sameple:  1729\n",
      "Test statistic:  177\n",
      "Probability that sample permutation >= test statistic:  1.553E-13\n"
     ]
    }
   ],
   "source": [
    "test_result_sampling = tri_perm_test_sampling(coulter_samples_mean['contains_mean'], n, n_perm, test_statistic)\n",
    "\n",
    "# print out key information as output\n",
    "print \"Permutation Test on Coulter Samples\"\n",
    "print \"Size of sameple: \", n\n",
    "print \"Test statistic: \", test_statistic\n",
    "print \"Probability that sample permutation >= test statistic: \", format(test_result_theory, '1.3E')"
   ]
  },
  {
   "cell_type": "markdown",
   "metadata": {},
   "source": [
    "Step 4b. Perform the permutation test on colony samples."
   ]
  },
  {
   "cell_type": "code",
   "execution_count": 28,
   "metadata": {
    "collapsed": false
   },
   "outputs": [
    {
     "name": "stdout",
     "output_type": "stream",
     "text": [
      "('Ploting hypergeometric pmf with n equal to ', 1361)\n"
     ]
    },
    {
     "data": {
      "image/png": "[encoded data removed]",
      "text/plain": [
       "<matplotlib.figure.Figure at 0x11a69b650>"
      ]
     },
     "metadata": {},
     "output_type": "display_data"
    }
   ],
   "source": [
    "# values of n and test_statistic are obtained from PNAS paper Table 2 (pg 7)\n",
    "n = 1361\n",
    "test_statistic = 708\n",
    "\n",
    "# permutation test on coulter samples (and plot the distribution histogram)\n",
    "test_result_theory = tri_perm_test_theoretical(colony_samples_mean['contains_mean'], n, test_statistic)"
   ]
  },
  {
   "cell_type": "code",
   "execution_count": 27,
   "metadata": {
    "collapsed": false
   },
   "outputs": [
    {
     "name": "stdout",
     "output_type": "stream",
     "text": [
      "('Ploting permutation histogram with random ', 10000, ' samplings')\n"
     ]
    },
    {
     "data": {
      "image/png": "[encoded data removed]",
      "text/plain": [
       "<matplotlib.figure.Figure at 0x119252dd0>"
      ]
     },
     "metadata": {},
     "output_type": "display_data"
    },
    {
     "name": "stdout",
     "output_type": "stream",
     "text": [
      "('maximum values in the permutation sampling: ', 606)\n",
      "Permutation Test on Colony Samples\n",
      "Size of sameple:  1361\n",
      "Test statistic:  708\n",
      "Probability that sampled permutation >= test statistic:  2.404E-43\n"
     ]
    }
   ],
   "source": [
    "test_result_sampling = tri_perm_test_sampling(colony_samples_mean['contains_mean'], n, n_perm, test_statistic)\n",
    "\n",
    "\n",
    "# print out key information as output\n",
    "print \"Permutation Test on Colony Samples\"\n",
    "print \"Size of sameple: \", n\n",
    "print \"Test statistic: \", test_statistic\n",
    "print \"Probability that sampled permutation >= test statistic: \", format(test_result_theory, '1.3E')"
   ]
  },
  {
   "cell_type": "markdown",
   "metadata": {},
   "source": [
    "## Mid-ratio test\n",
    "\n",
    "### Expeceted percent of samples with mid-ratio [.40,.60]\n",
    "For all integer values of $\\lambda$ from 1 to 2000, we simmulate 10,000 poisson triplicates and calculate the mid-ratio for each triplicate. Here the mid-ratio is defined as the ratio of the difference between the median and the smallest value of the triplicate to the difference between the largest and smallest value of the triplicate. \n",
    "We then calculate the percentage of mid-ratios that fall in the interval [0.4, 0.6]. Our results match with those reported in the paper - the percent of mid ratio test in the interval [0.4, 0.6] never exceeds 0.26."
   ]
  },
  {
   "cell_type": "code",
   "execution_count": null,
   "metadata": {
    "collapsed": false
   },
   "outputs": [],
   "source": [
    "# simulate poison\n",
    "def mid_ratio(x):\n",
    "    # x = n x 3 matrix of poisson variables\n",
    "    return (np.median(x,1)-np.min(x,1))/(np.max(x,1)-np.min(x,1))\n",
    "\n",
    "def mid_ratio_40_60(x):\n",
    "    # x = n-vector of mid-ratios\n",
    "    # returns the percent of samples that have mid-ratio in [.40,.60]\n",
    "    return np.count_nonzero((x>=.4) & (x<=.6))/float(len(x))\n",
    "\n",
    "def midratio_poisson_tv(lam, n_sim):\n",
    "    sim_poisson = stats.poisson.rvs(lam, size = 3*n_sim)\n",
    "    sim_poisson = sim_poisson.reshape((-1,3))\n",
    "    mid_ratios = mid_ratio(sim_poisson)\n",
    "    return mid_ratio_40_60(mid_ratios)\n",
    "\n",
    "\n",
    "v_midratio_poisson_tv = np.vectorize(midratio_poisson_tv)\n",
    "# Range of mu we are plotting\n",
    "x = np.arange(1, 2000)\n",
    "plt.plot(x, v_midratio_poisson_tv(x, 10000))\n",
    "plt.xlabel('lambda')\n",
    "plt.ylabel('Probability mid-ratio in [0.40, 0.60]')\n",
    "    "
   ]
  },
  {
   "cell_type": "markdown",
   "metadata": {},
   "source": [
    "Pitt and Hill report that the RTS investigator has a high number of triplicates with a mid-ratio value in the interval [0.4, 0.6], but they do not actually report how unlikely such a result is.\n",
    "\n",
    "From our investigation, we find that 824 of 1362 colony counts and 523 of 1729 coulter counts produced by the RTS investigator have a mid-ratio value in the interval [0.4, 0.6]. If, as Pitt and Hill suggest, we model the probability of mid-ratio in [0.4, 0.6] as a Bernouli process and conservatively assign the probability of success, p = 0.26, then the probability of observing 824 or more successes in 1362 colony count trials is 1.11e-16. The probability of observing 523 or more successes in 1729 coulter count triplicates is 3.26e-5. Both corroborate the idea that it is very unlikely that a Poisson process produced this many triplicates with midratios in the interval [0.4, 0.6]. \n",
    "\n",
    "However, we do take issue with the fact that Pitt and Hill decided to perform this test after observing \"what appeared to be an unusual frequency of triples in RTS data containing a value close to their mean. Other investigators  besides RTS may well have trends that make their data look anomylous, and that would also have a low probability of happening by chance."
   ]
  },
  {
   "cell_type": "code",
   "execution_count": null,
   "metadata": {
    "collapsed": false
   },
   "outputs": [],
   "source": [
    "rts_mid_ratios_colony = mid_ratio(biyashee_colony_cnts[['c1','c2','c3']].values)\n",
    "rts_mid_ratio_count_colony = mid_ratio_40_60(rts_mid_ratios_colony) * len(rts_mid_ratios_colony)\n",
    "print '%i of %i RTS colony triplicates have mid-ratios in interval [0.4,0.6]' %(rts_mid_ratio_count_colony,\n",
    "                                                                                len(rts_mid_ratios_colony))\n",
    "\n",
    "rts_mid_ratios_coulter = mid_ratio(biyashee_coulter_cnts[['c1','c2','c3']].values)\n",
    "rts_mid_ratio_count_coulter = mid_ratio_40_60(rts_mid_ratios_coulter) * len(rts_mid_ratios_coulter)\n",
    "print '%i of %i RTS coulter triplicates have mid-ratios in interval [0.4,0.6]' %(rts_mid_ratio_count_coulter,\n",
    "                                                                                len(rts_mid_ratios_coulter))\n",
    "\n",
    "prob_rts_mid_ratio_colony = 1-stats.binom.cdf(rts_mid_ratio_count_colony,len(rts_mid_ratios_colony),.26)\n",
    "prob_rts_mid_ratio_coulter =  1-stats.binom.cdf(rts_mid_ratio_count_coulter,len(rts_mid_ratios_coulter),.26)\n",
    "\n",
    "print 'p of seeing at least %i of %i triplicates with mid-ratios in interval [0.4,0.6] = %.4g' %(\n",
    "    rts_mid_ratio_count_colony,len(rts_mid_ratios_colony),prob_rts_mid_ratio_colony)\n",
    "print 'p of seeing at least %i of %i triplicates with mid-ratios in interval [0.4,0.6] = %.4g' %(\n",
    "    rts_mid_ratio_count_coulter,len(rts_mid_ratios_coulter),prob_rts_mid_ratio_coulter)"
   ]
  },
  {
   "cell_type": "markdown",
   "metadata": {},
   "source": [
    "## Terminal digits analysis\n",
    "### Testing the assumptions\n",
    "#### Is the terminal digit of a Poisson variable uniform?\n",
    "For each `mu`, we compute its total variation distance of the terminal digit distribution again the uniform distribution. We generate a vector containing 99.9% its probability mass. We reshape it into an array with 10 columns, allowing us to add the probability mass by terminal digits."
   ]
  },
  {
   "cell_type": "code",
   "execution_count": null,
   "metadata": {
    "collapsed": false
   },
   "outputs": [],
   "source": [
    "def termd_poisson_tv(mu):\n",
    "    '''computes the total variation distance of the terminal digit distribution against uniform'''\n",
    "    # Computes the probability mass, tail probability disregarded\n",
    "    num_comp = np.ceil(stats.poisson.ppf(0.999, mu) / 10) * 10\n",
    "    prob = stats.poisson.pmf(np.arange(num_comp), mu)\n",
    "    # Normalization by 1-norm\n",
    "    prob = prob / np.linalg.norm(prob, 1)\n",
    "    # Reshaping prob into 10 columns so each row can be added\n",
    "    prob = np.reshape(prob, (-1, 10))\n",
    "    return np.linalg.norm(prob.sum(axis=0) - np.ones(10) / 10, 1)\n",
    "\n",
    "v_termd_poisson_tv = np.vectorize(termd_poisson_tv)\n",
    "# Range of mu we are plotting\n",
    "x = np.arange(50, 2000)\n",
    "plt.plot(x, v_termd_poisson_tv(x))"
   ]
  },
  {
   "cell_type": "markdown",
   "metadata": {},
   "source": [
    "As observed above, the total variation distance is moderately close to 0. (The lack of convergence to 0 is due to the a truncated Poisson distribution is used in computation.) This validates the assumption."
   ]
  },
  {
   "cell_type": "markdown",
   "metadata": {},
   "source": [
    "#### Is the last two digits of a Poisson variable, conditioned on being three or more digits, the same approximately 10% of the time?"
   ]
  },
  {
   "cell_type": "code",
   "execution_count": null,
   "metadata": {
    "collapsed": false
   },
   "outputs": [],
   "source": [
    "def term2d_poisson_tv(mu):\n",
    "    '''computes the total variation distance of the terminal digit distribution against uniform'''\n",
    "    # Computes the probability mass, tail probability disregarded\n",
    "    num_comp = np.ceil(stats.poisson.ppf(0.999, mu) / 100) * 100\n",
    "    prob = stats.poisson.pmf(np.arange(100, num_comp), mu)\n",
    "    # Normalization by 1-norm\n",
    "    prob = prob / np.linalg.norm(prob, 1)\n",
    "    # Reshaping prob into 10 columns so each row can be added\n",
    "    prob = np.reshape(prob, (-1, 100))\n",
    "    return np.sum(prob[:, 0:100:11])\n",
    "\n",
    "v_term2d_poisson_tv = np.vectorize(term2d_poisson_tv)\n",
    "# Range of mu we are plotting\n",
    "x = np.arange(100, 2000)\n",
    "plt.plot(x, v_term2d_poisson_tv(x))"
   ]
  },
  {
   "cell_type": "markdown",
   "metadata": {},
   "source": [
    "Since a lot of the counts by RTS are around 100, the assumption of 10% is not very valid in this regime. This is porticularly troublesome when the true parameter $\\lambda$ is smaller than or comparable to 100. It is significantly more likely to observe 100 than 111, upsetting the uniform distribution assumption. Subject to imprecision of model specification, it does not seem that unlikely that RTS has a ~12% matching last two digits."
   ]
  },
  {
   "cell_type": "markdown",
   "metadata": {},
   "source": [
    "### Replication"
   ]
  },
  {
   "cell_type": "code",
   "execution_count": null,
   "metadata": {
    "collapsed": false
   },
   "outputs": [],
   "source": [
    "def termd_count(df):\n",
    "    '''counts the terminal digit in dataframe df. df must have c1, c2, c3'''\n",
    "    c1_termd = df['c1'].mod(10).value_counts().sort_index()\n",
    "    c2_termd = df['c2'].mod(10).value_counts().sort_index()\n",
    "    c3_termd = df['c3'].mod(10).value_counts().sort_index()\n",
    "    return list(c1_termd + c2_termd + c3_termd)\n",
    "\n",
    "# corresponds to table 3 in Pitt and Hill\n",
    "table3 = pd.DataFrame([termd_count(biyashee_colony_cnts),\n",
    "                       termd_count(biyashee_coulter_cnts),\n",
    "                       termd_count(other_colony_cnts),\n",
    "                       termd_count(other_coulter_cnts),\n",
    "                       termd_count(outside_coulter_cnts1),\n",
    "                       termd_count(outside_coulter_cnts2),\n",
    "                       termd_count(outside_colony_cnts)],\n",
    "                      columns = range(10))\n",
    "table3['index'] = pd.Series(['biyashee_colony_cnts', 'biyashee_coulter_cnts',\n",
    "                             'other_colony_cnts', 'other_coulter_cnts',\n",
    "                             'outside_coulter_cnts1', 'outside_coulter_cnts2',\n",
    "                             'outside_colony_cnts'],\n",
    "                            index=table3.index)\n",
    "table3.set_index('index', inplace=True)\n",
    "table3.index.name = None\n",
    "table3['total'] = table3.sum(axis=1)\n",
    "table3['chi-square'] = 0\n",
    "for i in range(10):\n",
    "    table3['chi-square'] += (table3[i] - table3['total'] / 10) ** 2 / (table3['total'] / 10)\n",
    "table3['p'] = stats.chisqprob(table3['chi-square'], 9)\n",
    "table3"
   ]
  },
  {
   "cell_type": "markdown",
   "metadata": {},
   "source": [
    "Although the `total` column in the paper does not add up correctly, fixing it did not change the p-values much."
   ]
  },
  {
   "cell_type": "markdown",
   "metadata": {},
   "source": [
    "### Alternative analysis: Permutation test\n",
    "\n",
    "Step 1. Pool all the samples together."
   ]
  },
  {
   "cell_type": "code",
   "execution_count": null,
   "metadata": {
    "collapsed": false
   },
   "outputs": [],
   "source": [
    "# pool all samples:\n",
    "def pool_all_samples(dfs):\n",
    "    samples = np.array([])\n",
    "    for df in dfs:\n",
    "        samples = np.append(samples,df[['c1','c2','c3']].values.flatten())\n",
    "    return samples\n",
    "\n",
    "coulter_dfs = [biyashee_coulter_cnts,\n",
    "               other_coulter_cnts,\n",
    "               outside_coulter_cnts1,\n",
    "               outside_coulter_cnts2]\n",
    "\n",
    "colony_dfs = [biyashee_colony_cnts,\n",
    "              other_colony_cnts,\n",
    "              outside_colony_cnts]\n",
    "\n",
    "\n",
    "coulter_samples = pool_all_samples(coulter_dfs)\n",
    "colony_samples = pool_all_samples(colony_dfs)"
   ]
  },
  {
   "cell_type": "markdown",
   "metadata": {},
   "source": [
    "Step 2. Permutation test for how far sample is from uniform"
   ]
  },
  {
   "cell_type": "code",
   "execution_count": null,
   "metadata": {
    "collapsed": true
   },
   "outputs": [],
   "source": [
    "def chi_squared_term_digit(samples):\n",
    "    chi_squared = 0\n",
    "    termd = samples%10\n",
    "    for i in range(10):\n",
    "        ni = np.count_nonzero(termd == i)\n",
    "        N = len(samples) # TODO fix to remove non-numbers\n",
    "        chi_squared += (ni - N / 10.) ** 2 / (N / 10)\n",
    "    return chi_squared\n",
    "        \n",
    "\n",
    "def perm_test(pooled_samples, n, n_perm, test_statistic):\n",
    "    '''\n",
    "    pooled_samples = all samples \n",
    "    n = number of samples in group of interest\n",
    "    test_statistic = value of observed test statistic to plot against\n",
    "    n_iter = number of iterations\n",
    "    '''\n",
    "    test_statistics = np.array([])\n",
    "    for i in range(n_perm):\n",
    "        # take 1st n samples\n",
    "        samples = pooled_samples[np.random.permutation(len(pooled_samples))[0:n]]  #array(i[0:n])\n",
    "        # compute test statistic on these samples\n",
    "        test_statistics = np.append(test_statistics, chi_squared_term_digit(samples))\n",
    "\n",
    "    # Plotting a sample draw (optional)\n",
    "    plt.hist(test_statistics, bins=50)\n",
    "    plt.show()\n",
    "    \n",
    "    return np.count_nonzero(test_statistics>test_statistic)/float(len(test_statistics))"
   ]
  },
  {
   "cell_type": "markdown",
   "metadata": {},
   "source": [
    "Step 3a. Perform the permutation test on coulter samples."
   ]
  },
  {
   "cell_type": "code",
   "execution_count": null,
   "metadata": {
    "collapsed": false
   },
   "outputs": [],
   "source": [
    "test_samples = pool_all_samples([biyashee_coulter_cnts])\n",
    "n = len(test_samples)\n",
    "n_perm = 10000\n",
    "test_statistic = chi_squared_term_digit(test_samples)\n",
    "test_result = perm_test(coulter_samples, n, n_perm, test_statistic)\n",
    "\n",
    "print \"Permutation Test on Coulter Samples\"\n",
    "print \"Size of sameple: \", n\n",
    "print \"Test statistic: \", test_statistic\n",
    "print \"Probability that sample permutation >= test statistic: \", format(test_result, '1.3E')"
   ]
  },
  {
   "cell_type": "markdown",
   "metadata": {},
   "source": [
    "Step 3b. Perform the permutation test on colony samples."
   ]
  },
  {
   "cell_type": "code",
   "execution_count": null,
   "metadata": {
    "collapsed": false
   },
   "outputs": [],
   "source": [
    "test_samples = pool_all_samples([biyashee_colony_cnts])\n",
    "n = len(test_samples)\n",
    "n_perm = 10000\n",
    "test_statistic = chi_squared_term_digit(test_samples)\n",
    "test_result = perm_test(colony_samples, n, n_perm, test_statistic)\n",
    "\n",
    "print \"Permutation Test on Coulter Samples\"\n",
    "print \"Size of sameple: \", n\n",
    "print \"Test statistic: \", test_statistic\n",
    "print \"Probability that sample permutation >= test statistic: \", format(test_result, '1.3E')"
   ]
  },
  {
   "cell_type": "code",
   "execution_count": null,
   "metadata": {
    "collapsed": true
   },
   "outputs": [],
   "source": []
  }
 ],
 "metadata": {
  "anaconda-cloud": {},
  "kernelspec": {
   "display_name": "Python [py27]",
   "language": "python",
   "name": "Python [py27]"
  },
  "language_info": {
   "codemirror_mode": {
    "name": "ipython",
    "version": 2
   },
   "file_extension": ".py",
   "mimetype": "text/x-python",
   "name": "python",
   "nbconvert_exporter": "python",
   "pygments_lexer": "ipython2",
   "version": "2.7.12"
  }
 },
 "nbformat": 4,
 "nbformat_minor": 0
}
