{
 "cells": [
  {
   "cell_type": "markdown",
   "metadata": {},
   "source": [
    "## Introduction\n",
    "This is the supplementary material for a referee report on Pitt and Hill (2016)."
   ]
  },
  {
   "cell_type": "markdown",
   "metadata": {},
   "source": [
    "## Reading data"
   ]
  },
  {
   "cell_type": "code",
   "execution_count": 57,
   "metadata": {
    "collapsed": false
   },
   "outputs": [],
   "source": [
    "from __future__ import division, print_function\n",
    "import math\n",
    "import matplotlib.pyplot as plt\n",
    "import pandas as pd\n",
    "import numpy as np\n",
    "import scipy.stats as stats\n",
    "import itertools\n",
    "import random\n",
    "from IPython.display import display\n",
    "%matplotlib inline"
   ]
  },
  {
   "cell_type": "code",
   "execution_count": 2,
   "metadata": {
    "collapsed": false
   },
   "outputs": [],
   "source": [
    "# Reading data\n",
    "biyashee_colony_cnts = pd.read_csv('data/Bishayee Colony Counts 10.27.97-3.8.01.csv', skiprows=2)\n",
    "biyashee_coulter_cnts = pd.read_csv('data/Bishayee Coulter Counts.10.20.97-7.16.01.csv', skiprows=1)\n",
    "other_colony_cnts = pd.read_csv('data/Other Investigators in Lab.Colony Counts.4.23.92-11.27.02.csv', skiprows=1)\n",
    "other_coulter_cnts = pd.read_csv('data/Other Investigators in Lab.Coulter Counts.4.15.92-5.21.05.csv', skiprows=1)\n",
    "outside_coulter_cnts1 = pd.read_csv('data/Outside Lab 1.Coulter Counts.6.7.91-4.9.99.csv')\n",
    "outside_coulter_cnts2 = pd.read_csv('data/Outside Lab 2.Coulter Counts.6.6.08-7.7.08.csv', skiprows=1)\n",
    "outside_colony_cnts =  pd.read_csv('data/Outside Lab 3.Colony Counts.2.4.10-5.21.12.csv', skiprows=1)\n",
    "\n",
    "# standardizing column names for dataframes\n",
    "biyashee_colony_cnts.columns = ['Isotope', 'Bates', 'Date', 'c1', 'c2', 'c3', 'avg']\n",
    "biyashee_coulter_cnts.columns = ['Bates', 'Date', 'c1', 'c2', 'c3', 'avg']\n",
    "other_colony_cnts.columns = ['Bates', 'Date', 'Inv', 'c1', 'c2', 'c3', 'avg']\n",
    "other_coulter_cnts.columns = ['Bates', 'Date', 'c1', 'c2', 'c3', 'avg', 'Inv']\n",
    "outside_coulter_cnts1.columns = ['Experiment', 'c1', 'c2', 'c3', 'avg', 'Date']\n",
    "outside_coulter_cnts2.columns = ['Date', 'c1', 'c2', 'c3', 'avg']\n",
    "outside_colony_cnts.columns = ['Date', 'c1', 'c2', 'c3', 'avg']\n",
    "\n",
    "# converting to numerics\n",
    "biyashee_colony_cnts['c3'] = pd.to_numeric(biyashee_colony_cnts['c3'], errors = 'coerce')\n",
    "other_colony_cnts['c3'] = pd.to_numeric(other_colony_cnts['c3'], errors = 'coerce')\n",
    "\n",
    "# filling in experiment and date info\n",
    "def fill_na(df, column):\n",
    "    df[column] = df[column].fillna(method='ffill')\n",
    "\n",
    "fill_na(outside_coulter_cnts1, 'Experiment')\n",
    "fill_na(outside_coulter_cnts1, 'Date')\n",
    "fill_na(outside_coulter_cnts2, 'Date')\n",
    "fill_na(outside_colony_cnts, 'Date')"
   ]
  },
  {
   "cell_type": "markdown",
   "metadata": {},
   "source": [
    "## Triplicate Analysis: Mean Containing Triplicate Analysis\n",
    "### Checking the assumptions\n",
    "\n",
    "We try to replicate Table 1 in the paper. Frist we apply the authors closed form equation in their appendix to calculate the probability that a triplicate drawn from an i.i.d. Poission distribution contains their own rounded mean. Then we use the simulation based approach to verify the validity of their formula.\n",
    "\n",
    "The function `MidProb` is defined using the authors formula, and the `MidProb_Sim` is defined using simulation approach"
   ]
  },
  {
   "cell_type": "code",
   "execution_count": 3,
   "metadata": {
    "collapsed": false
   },
   "outputs": [],
   "source": [
    "def entry(j, N, lamb):\n",
    "    P1 = stats.poisson.pmf(range(j, N + 1), lamb)\n",
    "    P2 = stats.poisson.pmf(range(0, N + 1 - j), lamb)\n",
    "    P3 = stats.poisson.pmf(range(j - int(j / 2), N + 1 - int(j / 2)), lamb)\n",
    "    P4 = (j % 2) * stats.poisson.pmf(range(j - int(j / 2) - 1, N + 1 - int(j / 2) - 1), lamb)\n",
    "    # Each entry P1, P2, (P3 + P4) represents the probability of a mean-containing triple with max and min fixed\n",
    "    return sum(P1 * (P3 + P4) * P2)\n",
    "\n",
    "# Closed form formula for MidProb\n",
    "def MidProb(lamb):\n",
    "    P_A = 0\n",
    "    # Choosing N to be sufficiently large so most outcomes are covered\n",
    "    N = int(stats.poisson.isf(10 ** (-9), lamb))\n",
    "    for j in range(2, N + 1):\n",
    "        P_A += entry(j, N, lamb)\n",
    "    return P_A * 6"
   ]
  },
  {
   "cell_type": "code",
   "execution_count": 4,
   "metadata": {
    "collapsed": false
   },
   "outputs": [],
   "source": [
    "# Simulation-based approach for MidProb\n",
    "def MidProb_Sim(lamb):\n",
    "    N = 100000\n",
    "    # Random Poisson triples generated\n",
    "    samples = np.random.poisson(lamb, (N, 3))\n",
    "    # Gap greater than or equal to 2\n",
    "    filtered = samples[np.max(samples, axis=1) - np.min(samples, axis=1) >= 2]\n",
    "    mean = np.round(np.mean(filtered, axis=1)).astype(int)\n",
    "    contains_mean = np.logical_or(np.logical_or(mean == filtered[:, 0], mean == filtered[:, 1]), mean == filtered[:, 2])\n",
    "    return sum(contains_mean) / N"
   ]
  },
  {
   "cell_type": "markdown",
   "metadata": {},
   "source": [
    "We create a table of `MidProb` for $\\lambda$ ranging from 0 to 1999, using function `MidProb`$(\\lambda)$.\n",
    "\n",
    "Running this panel may take a while, we recommand readers to refer to `TableI.csv` in the GitHub."
   ]
  },
  {
   "cell_type": "code",
   "execution_count": null,
   "metadata": {
    "collapsed": false
   },
   "outputs": [],
   "source": [
    "# Create table 1 for lambda from 0 to 1999\n",
    "# Warning: This may take a while!!\n",
    "prob_table_list = []\n",
    "for lamb in range(2000):\n",
    "    prob_table_list.append(MidProb(lamb))\n",
    "prob_table = np.asarray(prob_table_list)"
   ]
  },
  {
   "cell_type": "code",
   "execution_count": 6,
   "metadata": {
    "collapsed": false
   },
   "outputs": [],
   "source": [
    "# np.savetxt('Table1.csv', prob_table, fmt='%10.5f')"
   ]
  },
  {
   "cell_type": "markdown",
   "metadata": {},
   "source": [
    "#### Print Table 1"
   ]
  },
  {
   "cell_type": "markdown",
   "metadata": {},
   "source": [
    "In case readers want to load `prob_table` from the csv file, uncomment the following box and run."
   ]
  },
  {
   "cell_type": "code",
   "execution_count": 7,
   "metadata": {
    "collapsed": true
   },
   "outputs": [],
   "source": [
    "# prob_table = np.genfromtxt('Table1.csv')"
   ]
  },
  {
   "cell_type": "code",
   "execution_count": 64,
   "metadata": {
    "collapsed": false
   },
   "outputs": [
    {
     "name": "stdout",
     "output_type": "stream",
     "text": [
      "---------------Table 1. Partial MidProb table---------------\n",
      "[[ 0.26703  0.37189  0.31731  0.28051  0.25429]\n",
      " [ 0.38698  0.3593   0.30879  0.27459  0.24991]\n",
      " [ 0.40297  0.34751  0.30092  0.26905  0.24575]\n",
      " [ 0.39669  0.3366   0.29362  0.26384  0.2418 ]\n",
      " [ 0.38482  0.32655  0.28683  0.25893  0.23805]]\n"
     ]
    }
   ],
   "source": [
    "print('---------------Table 1. Partial MidProb table---------------')\n",
    "print(prob_table[1:26].reshape(5, 5).T)"
   ]
  },
  {
   "cell_type": "code",
   "execution_count": 9,
   "metadata": {
    "collapsed": false
   },
   "outputs": [
    {
     "name": "stdout",
     "output_type": "stream",
     "text": [
      "0.40297\n"
     ]
    }
   ],
   "source": [
    "# Check if prob never exceeds 0.42\n",
    "print(max(prob_table))"
   ]
  },
  {
   "cell_type": "code",
   "execution_count": 66,
   "metadata": {
    "collapsed": false
   },
   "outputs": [
    {
     "name": "stdout",
     "output_type": "stream",
     "text": [
      "Mid Prob (lambda = 20) produced by simulation: 0.257\n",
      "Mid Prob (lambda = 20) produced by closed form solution: 0.259\n"
     ]
    }
   ],
   "source": [
    "# Check if the authors formula is valid.\n",
    "print('Mid Prob (lambda = 20) produced by simulation: {0:.3f}'.format(MidProb_Sim(20)))\n",
    "print('Mid Prob (lambda = 20) produced by closed form solution: {0:.3f}'.format(MidProb(20)))"
   ]
  },
  {
   "cell_type": "markdown",
   "metadata": {},
   "source": [
    "### Replication\n",
    "#### Hypothesis Testing I"
   ]
  },
  {
   "cell_type": "code",
   "execution_count": 68,
   "metadata": {
    "collapsed": false
   },
   "outputs": [
    {
     "name": "stdout",
     "output_type": "stream",
     "text": [
      "RTS data: 2.853e-12\n",
      "Rest of the lab: 1.000e+00\n"
     ]
    }
   ],
   "source": [
    "p = 0.42\n",
    "\n",
    "n_triplicate_containing_avg = 690\n",
    "n_samples = 1343\n",
    "prob = stats.binom.sf(n_triplicate_containing_avg - 1, n_samples, p)\n",
    "print('RTS data: {0:1.3e}'.format(prob))\n",
    "\n",
    "n_triplicate_containing_avg = 109\n",
    "n_samples = 572\n",
    "prob = stats.binom.sf(n_triplicate_containing_avg - 1, n_samples, p)\n",
    "print('Rest of the lab: {0:1.3e}'.format(prob))"
   ]
  },
  {
   "cell_type": "markdown",
   "metadata": {},
   "source": [
    "#### Hypothesis Testing II & III\n",
    "\n",
    "The following boxes are for the mission of replcating table 2 in the paper.\n",
    "There are two main functions in class $Testing$. $GetTestData$ loads the colony count data and filters out NA values and observations that have gap smaller than $GAP$. $TestStats$ calculate the test statistics in table 2, such as $No. expected$, $Sd$ and $p\\geq z$.\n",
    "\n",
    "Notice that to run the following boxes, we need $rpy2$ packages installed and configured, and we also need R core and R package $poibin$ installed. The code works well on a Linuex machine."
   ]
  },
  {
   "cell_type": "code",
   "execution_count": 12,
   "metadata": {
    "collapsed": false
   },
   "outputs": [],
   "source": [
    "import readline\n",
    "from rpy2.robjects.packages import importr\n",
    "from rpy2.robjects import FloatVector\n",
    "import rpy2.robjects as ro"
   ]
  },
  {
   "cell_type": "code",
   "execution_count": 81,
   "metadata": {
    "collapsed": false
   },
   "outputs": [],
   "source": [
    "class Testing:\n",
    "    \"\"\"\n",
    "    Input: \n",
    "        rawData: dataframe of the count file;\n",
    "        N_mean: number of samples include its own rounded mean\n",
    "        prob_table: probability table presented in table 1\n",
    "    Output:\n",
    "        Test statistics (all listed in table 2):\n",
    "            No. expected\n",
    "            Sd\n",
    "            Z\n",
    "            p value\n",
    "    \"\"\"\n",
    "    def __init__(self, rawData, N_mean, prob_table, GAP=2):\n",
    "        self.rawdata = rawData\n",
    "        self.N_mean = N_mean\n",
    "        self.gap = GAP\n",
    "        self.prob_table = prob_table\n",
    "        \n",
    "        self.rawData, self.prob = self.GetTestData()\n",
    "        self.T_Stats = self.TestStats()\n",
    "\n",
    "    def GetTestData(self):\n",
    "        raw_dataframe = self.rawdata[['c1','c2','c3']].dropna()\n",
    "        print('Total Sample Size: ', raw_dataframe.shape[0])\n",
    "        raw_dataframe['gap'] = raw_dataframe[['c1','c2','c3']].apply(lambda x: np.max(x) - np.min(x), axis=1)\n",
    "        raw_dataframe = raw_dataframe[raw_dataframe.gap >= self.gap]\n",
    "        print('Complete Sample Size: ', raw_dataframe.shape[0])\n",
    "        \n",
    "        raw_dataframe['Mean'] = np.round(raw_dataframe[['c1','c2','c3']].mean(axis=1)).astype(int)\n",
    "        \n",
    "        try:\n",
    "            raw_dataframe['prob'] = raw_dataframe.Mean.apply(lambda x: self.prob_table[x])\n",
    "        except:\n",
    "            raw_dataframe['prob'] = raw_dataframe.Mean.apply(lambda x: MidProb(x))\n",
    "\n",
    "        prob = raw_dataframe.prob.values\n",
    "\n",
    "        return raw_dataframe, prob\n",
    "\n",
    "    def TestStats(self):\n",
    "        Mu = sum(self.prob)\n",
    "        Std = np.sqrt(self.prob.dot(1 - self.prob))\n",
    "        Z = (self.N_mean - 0.5 - Mu)/Std\n",
    "        \n",
    "        poibin = importr('poibin')\n",
    "        pvalue = 1 - poibin.ppoibin(self.N_mean - 1, FloatVector(self.prob.tolist()))[0]\n",
    "        print('------------------------------')\n",
    "        print('NO.expected: {0}'.format(Mu))\n",
    "        print('Sd: {0}'.format(Std))\n",
    "        print('Z: {0}'.format(Z))\n",
    "        print('p >= k: {0}'.format(pvalue))\n",
    "        print('------------------------------')\n",
    "        return(Mu, Std, Z, pvalue)"
   ]
  },
  {
   "cell_type": "markdown",
   "metadata": {},
   "source": [
    "##### RTS"
   ]
  },
  {
   "cell_type": "code",
   "execution_count": 82,
   "metadata": {
    "collapsed": false
   },
   "outputs": [
    {
     "name": "stdout",
     "output_type": "stream",
     "text": [
      "Total Sample Size:  1361\n",
      "Complete Sample Size:  1343\n",
      "------------------------------\n",
      "NO.expected: 214.92360210732295\n",
      "Sd: 13.281792141052023\n",
      "Z: 35.731352580487446\n",
      "p >= k: 3.4416913763379853e-15\n",
      "------------------------------\n"
     ]
    }
   ],
   "source": [
    "# Test results using complete samples\n",
    "RTS = Testing(biyashee_colony_cnts, 690, prob_table_list, 2)"
   ]
  },
  {
   "cell_type": "code",
   "execution_count": 83,
   "metadata": {
    "collapsed": false
   },
   "outputs": [
    {
     "name": "stdout",
     "output_type": "stream",
     "text": [
      "Total Sample Size:  1361\n",
      "Complete Sample Size:  1361\n",
      "------------------------------\n",
      "NO.expected: 220.31368423458414\n",
      "Sd: 13.418144546253146\n",
      "Z: 34.96655697425994\n",
      "p >= k: 0.0\n",
      "------------------------------\n"
     ]
    }
   ],
   "source": [
    "# Test results using total samples\n",
    "RTS = Testing(biyashee_colony_cnts, 690, prob_table_list, 0)"
   ]
  },
  {
   "cell_type": "markdown",
   "metadata": {},
   "source": [
    "##### Others"
   ]
  },
  {
   "cell_type": "code",
   "execution_count": 84,
   "metadata": {
    "collapsed": false
   },
   "outputs": [
    {
     "name": "stdout",
     "output_type": "stream",
     "text": [
      "Total Sample Size:  597\n",
      "Complete Sample Size:  578\n",
      "------------------------------\n",
      "NO.expected: 103.40456651970108\n",
      "Sd: 9.061666440887395\n",
      "Z: 0.5623064492097918\n",
      "p >= k: 0.2843866673149962\n",
      "------------------------------\n"
     ]
    }
   ],
   "source": [
    "Others = Testing(other_colony_cnts, 109, prob_table_list, 2)"
   ]
  },
  {
   "cell_type": "markdown",
   "metadata": {},
   "source": [
    "##### Outside Lab"
   ]
  },
  {
   "cell_type": "code",
   "execution_count": 85,
   "metadata": {
    "collapsed": false
   },
   "outputs": [
    {
     "name": "stdout",
     "output_type": "stream",
     "text": [
      "Total Sample Size:  50\n",
      "Complete Sample Size:  49\n",
      "------------------------------\n",
      "NO.expected: 7.788269192425835\n",
      "Sd: 2.5544014206605796\n",
      "Z: -2.070257693114759\n",
      "p >= k: 0.9892860552887166\n",
      "------------------------------\n"
     ]
    }
   ],
   "source": [
    "Outside = Testing(outside_colony_cnts, 3, prob_table_list, 2)"
   ]
  },
  {
   "cell_type": "markdown",
   "metadata": {},
   "source": [
    "### Alternative Analysis: Permutation Test\n",
    "As an alternative test, we circumvent the assumption that the samples are generated from a Poisson process, by conducting permutation tests on the same Coulter and colony data sets to verify the conclusion from the earlier section. For this, we first pool together all the sample data for Coulter and colony counts respectively. We then draw random samples from the pool, where the size of the sample is equal to that of the RTS investigator. Two methods are employed.\n",
    "\n",
    "**Method 1**: We first run a simulation of 10,000 draws. In those 10,000 draws, we count the number (and proportion) of draws containing equal or more mean-containing triplicates than those observed in RTS investigator data set.\n",
    "\n",
    "**Method 2**: To get a more precise bound, we proceed to calculate the probability analytically using a hypergeometric distribution. In modeling the distribution, we define\n",
    "* success: the event that the triplicate counts contains its rounded mean\n",
    "* $N$: The total number of triplicates in the pooled samples (for Coulter and colony counts respectively)\n",
    "* $K$: The total number of mean-containing triplicates\n",
    "* $n$: The sample size of the RTS investigator data set\n",
    "* $k$: The count of mean-containing triplicates in the RTS investigator's data set\n",
    "\n",
    "#### Helper Functions ####"
   ]
  },
  {
   "cell_type": "code",
   "execution_count": 20,
   "metadata": {
    "collapsed": false
   },
   "outputs": [],
   "source": [
    "import warnings\n",
    "warnings.filterwarnings('ignore')\n",
    "\n",
    "# pool all samples for triplicate testing\n",
    "def triplicate_pool_all_samples(dfs):\n",
    "    samples = dfs[0][['c1', 'c2', 'c3']]\n",
    "    for df in dfs[1:]:\n",
    "        samples = samples.append(df[['c1', 'c2', 'c3']], ignore_index=True)\n",
    "    return samples\n",
    "\n",
    "# remove rows with adjacent count values \n",
    "def triplicate_remove_consecutives(df):\n",
    "    '''remove triplicate rows with adjacent count values, i.e. max(triplicate count) - min(triplicate count) < 2'''\n",
    "    return df[df[['c1', 'c2', 'c3']].max(axis=1) - df[['c1', 'c2', 'c3']].min(axis=1) >= 2]\n",
    "\n",
    "def helper_contains_mean(df_row):\n",
    "    '''returns true if any of c1, c2 or c3 equals the triplicate average '''\n",
    "    return (df_row['mean'] == df_row['c1'] or \n",
    "            df_row['mean'] == df_row['c2'] or \n",
    "            df_row['mean'] == df_row['c3'])\n",
    "\n",
    "# clean up data and add a new column to the data frame indicating if the triplicate contains its rounded mean\n",
    "def triplicate_has_mean(df):\n",
    "    '''append df with an extra column of booleans indicating if each row of triplicate contains its own mean'''\n",
    "    # drop NA values and convert c1, c2, c3 to int type\n",
    "    df = df.dropna()\n",
    "    df[['c1', 'c2', 'c3']] = df[['c1', 'c2', 'c3']].astype(int)\n",
    "    \n",
    "    # calculate mean and append a new column of mean values to df\n",
    "    df['mean'] = df.mean(axis=1).round(0).astype(int)\n",
    "\n",
    "    # calculate if each row of triplicate contains its own mean and append a new boolean column to df\n",
    "    df['contains_mean'] = df.apply(helper_contains_mean, axis=1)\n",
    "    \n",
    "    return df"
   ]
  },
  {
   "cell_type": "markdown",
   "metadata": {},
   "source": [
    "#### Step 1. Pool all the samples ####"
   ]
  },
  {
   "cell_type": "code",
   "execution_count": 21,
   "metadata": {
    "collapsed": false
   },
   "outputs": [],
   "source": [
    "coulter_dfs = [biyashee_coulter_cnts,\n",
    "               other_coulter_cnts,\n",
    "               outside_coulter_cnts1,\n",
    "               outside_coulter_cnts2]\n",
    "\n",
    "colony_dfs = [biyashee_colony_cnts,\n",
    "              other_colony_cnts,\n",
    "              outside_colony_cnts]\n",
    "\n",
    "coulter_samples = triplicate_pool_all_samples(coulter_dfs)\n",
    "colony_samples = triplicate_pool_all_samples(colony_dfs)"
   ]
  },
  {
   "cell_type": "markdown",
   "metadata": {},
   "source": [
    "#### Step 2. Check for mean-containing triplicate in the pooled samples ####"
   ]
  },
  {
   "cell_type": "code",
   "execution_count": 22,
   "metadata": {
    "collapsed": true
   },
   "outputs": [],
   "source": [
    "coulter_samples_mean = triplicate_has_mean(coulter_samples)\n",
    "colony_samples_mean = triplicate_has_mean(colony_samples)"
   ]
  },
  {
   "cell_type": "markdown",
   "metadata": {},
   "source": [
    "#### Step 3. Permutation test functions for triplicate count test ####\n",
    "We implemented 2 types of permutation tests. One performed simulations of n_sim random samplings, and the other calculated the theoretical probability of obtaining test_statisc or more of mean-containing triplicates."
   ]
  },
  {
   "cell_type": "code",
   "execution_count": 75,
   "metadata": {
    "collapsed": false
   },
   "outputs": [],
   "source": [
    "def tri_perm_test_sampling(pooled_samples, n, n_perm, test_statistic):\n",
    "    '''permutation test for triplicate mean counts'''\n",
    "    x = []\n",
    "    for i in range(n_perm):\n",
    "        x.append(sum(random.sample(pooled_samples.tolist(), n)))\n",
    "    x = np.asarray(x)\n",
    "    print(\"Ploting permutation histogram with random {0} samplings\".format(n_perm))\n",
    "    plt.hist(x, bins=100)\n",
    "    plt.show()\n",
    "    print(\"maximum values in the permutation sampling: \", max(x))\n",
    "\n",
    "    return np.count_nonzero(x >= test_statistic) / float(len(x))\n",
    "\n",
    "def tri_perm_test_theoretical(pooled_samples, n, test_statistic):\n",
    "    '''permutation test for triplicate mean counts\n",
    "    pooled_samples should be a series'''\n",
    "    \n",
    "    # rv is the hypergeometric variable in question\n",
    "    rv = stats.hypergeom(pooled_samples.size, pooled_samples.sum(), n)\n",
    "    \n",
    "    # Plotting a sample draw (optional)\n",
    "    (lower, upper) = rv.interval(0.9999)\n",
    "    x = np.arange(lower, upper)\n",
    "    print (\"Ploting hypergeometric pmf with n = {0}\".format(n))\n",
    "    plt.plot(x, rv.pmf(x))\n",
    "    plt.show()\n",
    "    \n",
    "    # pooled_samples.size is the total number of triplets\n",
    "    # pooled_samples.sum() is the number of marked triplets\n",
    "    # n is the number of sampels drawn\n",
    "    return rv.sf(test_statistic - 1)"
   ]
  },
  {
   "cell_type": "markdown",
   "metadata": {},
   "source": [
    "#### Step 4.a Perform the permutation test on all coulter and colony samples. ####"
   ]
  },
  {
   "cell_type": "code",
   "execution_count": 27,
   "metadata": {
    "collapsed": false
   },
   "outputs": [],
   "source": [
    "# values of n and test_statistic are obtained from PNAS paper Table 2 (pg 7)\n",
    "n_coulter = 1727\n",
    "n_colony = 1361\n",
    "test_statistic_coulter = 177\n",
    "test_statistic_colony = 708\n",
    "n_sim = 10000"
   ]
  },
  {
   "cell_type": "markdown",
   "metadata": {},
   "source": [
    "##### 4.a.1 Coulter Counts #####"
   ]
  },
  {
   "cell_type": "code",
   "execution_count": 74,
   "metadata": {
    "collapsed": false
   },
   "outputs": [
    {
     "name": "stdout",
     "output_type": "stream",
     "text": [
      "Ploting permutation histogram with random 10000 samplings\n"
     ]
    },
    {
     "data": {
      "image/png": "[encoded data removed]",
      "text/plain": [
       "<matplotlib.figure.Figure at 0x110326e48>"
      ]
     },
     "metadata": {},
     "output_type": "display_data"
    },
    {
     "name": "stdout",
     "output_type": "stream",
     "text": [
      "maximum values in the permutation sampling:  151\n"
     ]
    }
   ],
   "source": [
    "# permutation test by sampling on Coulter samples (and plot the distribution histogram)\n",
    "test_result_sampling = tri_perm_test_sampling(coulter_samples_mean['contains_mean'], n_coulter, n_sim, test_statistic_coulter)"
   ]
  },
  {
   "cell_type": "code",
   "execution_count": 80,
   "metadata": {
    "collapsed": false
   },
   "outputs": [
    {
     "name": "stdout",
     "output_type": "stream",
     "text": [
      "Ploting hypergeometric pmf with n = 1726\n"
     ]
    },
    {
     "data": {
      "image/png": "[encoded data removed]",
      "text/plain": [
       "<matplotlib.figure.Figure at 0x111624208>"
      ]
     },
     "metadata": {},
     "output_type": "display_data"
    },
    {
     "name": "stdout",
     "output_type": "stream",
     "text": [
      "Permutation Test on Coulter Samples\n",
      "Size of sameple: 1726\n",
      "Test statistic: 176\n",
      "Probability that sample permutation >= test statistic: 1.840e-13\n"
     ]
    }
   ],
   "source": [
    "# pmf of hypergeometric distribution for coulter samples\n",
    "test_result_theory = tri_perm_test_theoretical(coulter_samples_mean['contains_mean'], n_coulter, test_statistic_coulter)\n",
    "\n",
    "# print out key information as output\n",
    "print (\"Permutation Test on Coulter Samples\")\n",
    "print (\"Size of sameple: {0}\".format(n_coulter))\n",
    "print (\"Test statistic: {0}\".format(test_statistic_coulter))\n",
    "print (\"Probability that sample permutation >= test statistic: {0:1.3e}\".format(test_result_theory))"
   ]
  },
  {
   "cell_type": "markdown",
   "metadata": {},
   "source": [
    "##### 4.a.2 Colony Counts #####"
   ]
  },
  {
   "cell_type": "code",
   "execution_count": 77,
   "metadata": {
    "collapsed": false
   },
   "outputs": [
    {
     "name": "stdout",
     "output_type": "stream",
     "text": [
      "Ploting permutation histogram with random 10000 samplings\n"
     ]
    },
    {
     "data": {
      "image/png": "[encoded data removed]",
      "text/plain": [
       "<matplotlib.figure.Figure at 0x1103267b8>"
      ]
     },
     "metadata": {},
     "output_type": "display_data"
    },
    {
     "name": "stdout",
     "output_type": "stream",
     "text": [
      "maximum values in the permutation sampling:  583\n"
     ]
    }
   ],
   "source": [
    "# permutation test by sampling on coulter samples (and plot the distribution histogram)\n",
    "test_result_sampling = tri_perm_test_sampling(colony_samples_mean['contains_mean'], n_colony, n_sim,\n",
    "                                              test_statistic_colony)"
   ]
  },
  {
   "cell_type": "code",
   "execution_count": 79,
   "metadata": {
    "collapsed": false
   },
   "outputs": [
    {
     "name": "stdout",
     "output_type": "stream",
     "text": [
      "Ploting hypergeometric pmf with n = 1343\n"
     ]
    },
    {
     "data": {
      "image/png": "[encoded data removed]",
      "text/plain": [
       "<matplotlib.figure.Figure at 0x1114a8eb8>"
      ]
     },
     "metadata": {},
     "output_type": "display_data"
    },
    {
     "name": "stdout",
     "output_type": "stream",
     "text": [
      "Permutation Test on Colony Samples\n",
      "Size of sameple: 1343\n",
      "Test statistic: 690\n",
      "Probability that sampled permutation >= test statistic: 2.964e-48\n"
     ]
    }
   ],
   "source": [
    "# pmf of hypergeometric distribution for coulter samples\n",
    "test_result_theory = tri_perm_test_theoretical(colony_samples_mean['contains_mean'], n_colony, test_statistic_colony)\n",
    "\n",
    "# print out key information as output\n",
    "print (\"Permutation Test on Colony Samples\")\n",
    "print (\"Size of sameple: {0}\".format(n_colony))\n",
    "print (\"Test statistic: {0}\".format(test_statistic_colony))\n",
    "print (\"Probability that sampled permutation >= test statistic: {0:1.3e}\".format(test_result_theory))"
   ]
  },
  {
   "cell_type": "markdown",
   "metadata": {},
   "source": [
    "#### Step 4.b Perform the permutation test on all coulter and colony samples MINUS triplicates with adjacent counts. ####"
   ]
  },
  {
   "cell_type": "code",
   "execution_count": 33,
   "metadata": {
    "collapsed": true
   },
   "outputs": [],
   "source": [
    "n_coulter = 1726\n",
    "n_colony = 1343\n",
    "test_statistic_coulter = 176\n",
    "test_statistic_colony = 690\n",
    "n_sim = 10000\n",
    "\n",
    "coulter_samples_mean = triplicate_remove_consecutives(coulter_samples_mean)\n",
    "colony_samples_mean = triplicate_remove_consecutives(colony_samples_mean)"
   ]
  },
  {
   "cell_type": "markdown",
   "metadata": {},
   "source": [
    "##### 4.b.1 Coulter Counts #####"
   ]
  },
  {
   "cell_type": "code",
   "execution_count": 34,
   "metadata": {
    "collapsed": false
   },
   "outputs": [
    {
     "name": "stdout",
     "output_type": "stream",
     "text": [
      "Ploting permutation histogram with random  10000  samplings\n"
     ]
    },
    {
     "data": {
      "image/png": "[encoded data removed]",
      "text/plain": [
       "<matplotlib.figure.Figure at 0x10fefd0f0>"
      ]
     },
     "metadata": {},
     "output_type": "display_data"
    },
    {
     "name": "stdout",
     "output_type": "stream",
     "text": [
      "maximum values in the permutation sampling:  154\n"
     ]
    }
   ],
   "source": [
    "# permutation test by sampling on coulter samples (and plot the distribution histogram)\n",
    "test_result_sampling = tri_perm_test_sampling(coulter_samples_mean['contains_mean'], n_coulter, n_sim, test_statistic_coulter)"
   ]
  },
  {
   "cell_type": "code",
   "execution_count": 72,
   "metadata": {
    "collapsed": false
   },
   "outputs": [
    {
     "name": "stdout",
     "output_type": "stream",
     "text": [
      "Ploting hypergeometric pmf with n equal to  1726\n"
     ]
    },
    {
     "data": {
      "image/png": "[encoded data removed]",
      "text/plain": [
       "<matplotlib.figure.Figure at 0x11034c0b8>"
      ]
     },
     "metadata": {},
     "output_type": "display_data"
    },
    {
     "name": "stdout",
     "output_type": "stream",
     "text": [
      "Permutation Test on Coulter Samples\n",
      "Size of sameple:  1726\n",
      "Test statistic:  176\n",
      "Probability that sample permutation >= test statistic: 1.840e-13\n"
     ]
    }
   ],
   "source": [
    "# pmf of hypergeometric distribution for coulter samples\n",
    "test_result_theory = tri_perm_test_theoretical(coulter_samples_mean['contains_mean'], n_coulter, test_statistic_coulter)\n",
    "\n",
    "# print out key information as output\n",
    "print (\"Permutation Test on Coulter Samples\")\n",
    "print (\"Size of sameple: \", n_coulter)\n",
    "print (\"Test statistic: \", test_statistic_coulter)\n",
    "print (\"Probability that sample permutation >= test statistic: {0:1.3e}\".format(test_result_theory))"
   ]
  },
  {
   "cell_type": "markdown",
   "metadata": {},
   "source": [
    "##### 4.b.2 Colony Counts #####"
   ]
  },
  {
   "cell_type": "code",
   "execution_count": 36,
   "metadata": {
    "collapsed": false
   },
   "outputs": [
    {
     "name": "stdout",
     "output_type": "stream",
     "text": [
      "Ploting permutation histogram with random  10000  samplings\n"
     ]
    },
    {
     "data": {
      "image/png": "[encoded data removed]",
      "text/plain": [
       "<matplotlib.figure.Figure at 0x1107901d0>"
      ]
     },
     "metadata": {},
     "output_type": "display_data"
    },
    {
     "name": "stdout",
     "output_type": "stream",
     "text": [
      "maximum values in the permutation sampling:  587\n"
     ]
    }
   ],
   "source": [
    "# permutation test by sampling on coulter samples (and plot the distribution histogram)\n",
    "test_result_sampling = tri_perm_test_sampling(colony_samples_mean['contains_mean'], n_colony, n_sim,\n",
    "                                              test_statistic_colony)"
   ]
  },
  {
   "cell_type": "code",
   "execution_count": 71,
   "metadata": {
    "collapsed": false
   },
   "outputs": [
    {
     "name": "stdout",
     "output_type": "stream",
     "text": [
      "Ploting hypergeometric pmf with n equal to  1343\n"
     ]
    },
    {
     "data": {
      "image/png": "[encoded data removed]",
      "text/plain": [
       "<matplotlib.figure.Figure at 0x11054d898>"
      ]
     },
     "metadata": {},
     "output_type": "display_data"
    },
    {
     "name": "stdout",
     "output_type": "stream",
     "text": [
      "Permutation Test on Colony Samples\n",
      "Size of sameple:  1343\n",
      "Test statistic:  690\n",
      "Probability that sampled permutation >= test statistic: 2.964e-48\n"
     ]
    }
   ],
   "source": [
    "# pmf of hypergeometric distribution for coulter samples\n",
    "test_result_theory = tri_perm_test_theoretical(colony_samples_mean['contains_mean'], n_colony, test_statistic_colony)\n",
    "\n",
    "# print out key information as output\n",
    "print (\"Permutation Test on Colony Samples\")\n",
    "print (\"Size of sameple: \", n_colony)\n",
    "print (\"Test statistic: \", test_statistic_colony)\n",
    "print (\"Probability that sampled permutation >= test statistic: {0:1.3e}\".format(test_result_theory))"
   ]
  },
  {
   "cell_type": "markdown",
   "metadata": {},
   "source": [
    "## Triplicate Analysis: Mid-Ratio Analysis\n",
    "\n",
    "### Expeceted percent of samples with mid-ratio [.40, .60]\n",
    "For all integer values of $\\lambda$ from 1 to 2000, we simmulate 10,000 poisson triplicates and calculate the mid-ratio for each triplicate. Here the mid-ratio is defined as the ratio of the difference between the median and the smallest value of the triplicate to the difference between the largest and smallest value of the triplicate. \n",
    "We then calculate the percentage of mid-ratios that fall in the interval [0.4, 0.6]. Our results match with those reported in the paper --- the percent of mid ratio test in the interval [0.4, 0.6] never exceeds 0.26."
   ]
  },
  {
   "cell_type": "code",
   "execution_count": 39,
   "metadata": {
    "collapsed": false
   },
   "outputs": [
    {
     "data": {
      "text/plain": [
       "<matplotlib.text.Text at 0x110097198>"
      ]
     },
     "execution_count": 39,
     "metadata": {},
     "output_type": "execute_result"
    },
    {
     "data": {
      "image/png": "[encoded data removed]",
      "text/plain": [
       "<matplotlib.figure.Figure at 0x10ff47828>"
      ]
     },
     "metadata": {},
     "output_type": "display_data"
    }
   ],
   "source": [
    "# simulate Poisson\n",
    "def mid_ratio(x):\n",
    "    # x = n x 3 matrix of poisson variables\n",
    "    return (np.median(x, 1) - np.min(x, 1)) / (np.max(x, 1) - np.min(x, 1))\n",
    "\n",
    "def mid_ratio_40_60(x):\n",
    "    # x = n-vector of mid-ratios\n",
    "    # returns the percent of samples that have mid-ratio in [.40,.60]\n",
    "    return np.count_nonzero((x >= .4) & (x <= .6)) / float(len(x))\n",
    "\n",
    "def midratio_poisson_tv(lamb, n_sim):\n",
    "    sim_poisson = np.random.poisson(lamb, size=(n_sim, 3))\n",
    "    mid_ratios = mid_ratio(sim_poisson)\n",
    "    return mid_ratio_40_60(mid_ratios)\n",
    "\n",
    "v_midratio_poisson_tv = np.vectorize(midratio_poisson_tv)\n",
    "# Range of mu we are plotting\n",
    "x = np.arange(1, 2000)\n",
    "plt.plot(x, v_midratio_poisson_tv(x, 10000))\n",
    "plt.xlabel('lambda')\n",
    "plt.ylabel('Probability mid-ratio in [0.40, 0.60]')"
   ]
  },
  {
   "cell_type": "markdown",
   "metadata": {},
   "source": [
    "Pitt and Hill report that the RTS investigator has a high number of triplicates with a mid-ratio value in the interval [0.4, 0.6], but they do not actually report how unlikely such a result is.\n",
    "\n",
    "From our investigation, we find that 824 of 1362 colony counts and 523 of 1729 coulter counts produced by the RTS investigator have a mid-ratio value in the interval [0.4, 0.6]. If, as Pitt and Hill suggest, we model the probability of mid-ratio in [0.4, 0.6] as a Bernouli process and conservatively assign the probability of success, p = 0.26, then the probability of observing 824 or more successes in 1362 colony count trials is 1.11e-16. The probability of observing 523 or more successes in 1729 coulter count triplicates is 3.26e-5. Both corroborate the idea that it is very unlikely that a Poisson process produced this many triplicates with midratios in the interval [0.4, 0.6]. \n",
    "\n",
    "However, we do take issue with the fact that Pitt and Hill decided to perform this test after observing \"what appeared to be an unusual frequency of triples in RTS data containing a value close to their mean. Other investigators  besides RTS may well have trends that make their data look anomylous, and that would also have a low probability of happening by chance."
   ]
  },
  {
   "cell_type": "code",
   "execution_count": 48,
   "metadata": {
    "collapsed": false
   },
   "outputs": [
    {
     "name": "stdout",
     "output_type": "stream",
     "text": [
      "824 of 1362 RTS colony triplicates have mid-ratios in interval [0.4, 0.6]\n",
      "523 of 1729 RTS Coulter triplicates have mid-ratios in interval [0.4, 0.6]\n",
      "p of seeing at least 824 of 1362 triplicates with mid-ratios in interval [0.4, 0.6] = 0.0000\n",
      "p of seeing at least 523 of 1729 triplicates with mid-ratios in interval [0.4, 0.6] = 0.0000\n"
     ]
    }
   ],
   "source": [
    "rts_mid_ratios_colony = mid_ratio(biyashee_colony_cnts[['c1', 'c2', 'c3']].values)\n",
    "rts_mid_ratio_count_colony = mid_ratio_40_60(rts_mid_ratios_colony) * len(rts_mid_ratios_colony)\n",
    "print('{0} of {1} RTS colony triplicates have mid-ratios in interval [0.4, 0.6]'.format(\n",
    "        int(rts_mid_ratio_count_colony), len(rts_mid_ratios_colony)))\n",
    "\n",
    "rts_mid_ratios_coulter = mid_ratio(biyashee_coulter_cnts[['c1', 'c2', 'c3']].values)\n",
    "rts_mid_ratio_count_coulter = mid_ratio_40_60(rts_mid_ratios_coulter) * len(rts_mid_ratios_coulter)\n",
    "print('{0} of {1} RTS Coulter triplicates have mid-ratios in interval [0.4, 0.6]'.format(\n",
    "        int(rts_mid_ratio_count_coulter), len(rts_mid_ratios_coulter)))\n",
    "\n",
    "prob_rts_mid_ratio_colony = stats.binom.sf(rts_mid_ratio_count_colony, len(rts_mid_ratios_colony), .26)\n",
    "prob_rts_mid_ratio_coulter = stats.binom.sf(rts_mid_ratio_count_coulter, len(rts_mid_ratios_coulter), .26)\n",
    "\n",
    "print('p of seeing at least {0} of {1} triplicates with mid-ratios in interval [0.4, 0.6] = {2:.4f}'.format(\n",
    "        int(rts_mid_ratio_count_colony), len(rts_mid_ratios_colony), prob_rts_mid_ratio_colony))\n",
    "print('p of seeing at least {0} of {1} triplicates with mid-ratios in interval [0.4, 0.6] = {2:.4f}'.format(\n",
    "        int(rts_mid_ratio_count_coulter), len(rts_mid_ratios_coulter), prob_rts_mid_ratio_coulter))"
   ]
  },
  {
   "cell_type": "markdown",
   "metadata": {},
   "source": [
    "## Terminal digits analysis\n",
    "### Testing the assumptions\n",
    "#### Is the terminal digit of a Poisson variable uniform?\n",
    "For each `mu`, we compute its total variation distance of the terminal digit distribution again the uniform distribution. We generate a vector containing 99.9% its probability mass. We reshape it into an array with 10 columns, allowing us to add the probability mass by terminal digits."
   ]
  },
  {
   "cell_type": "code",
   "execution_count": 49,
   "metadata": {
    "collapsed": false
   },
   "outputs": [
    {
     "data": {
      "text/plain": [
       "[<matplotlib.lines.Line2D at 0x110703748>]"
      ]
     },
     "execution_count": 49,
     "metadata": {},
     "output_type": "execute_result"
    },
    {
     "data": {
      "image/png": "[encoded data removed]",
      "text/plain": [
       "<matplotlib.figure.Figure at 0x10fdceac8>"
      ]
     },
     "metadata": {},
     "output_type": "display_data"
    }
   ],
   "source": [
    "def termd_poisson_tv(mu):\n",
    "    '''computes the total variation distance of the terminal digit distribution against uniform'''\n",
    "    # Computes the probability mass, tail probability disregarded\n",
    "    num_comp = np.ceil(stats.poisson.ppf(0.999, mu) / 10) * 10\n",
    "    prob = stats.poisson.pmf(np.arange(num_comp), mu)\n",
    "    # Normalization by 1-norm\n",
    "    prob = prob / np.linalg.norm(prob, 1)\n",
    "    # Reshaping prob into 10 columns so each row can be added\n",
    "    prob = np.reshape(prob, (-1, 10))\n",
    "    return np.linalg.norm(prob.sum(axis=0) - np.ones(10) / 10, 1)\n",
    "\n",
    "v_termd_poisson_tv = np.vectorize(termd_poisson_tv)\n",
    "# Range of mu we are plotting\n",
    "x = np.arange(50, 2000)\n",
    "plt.plot(x, v_termd_poisson_tv(x))"
   ]
  },
  {
   "cell_type": "markdown",
   "metadata": {},
   "source": [
    "As observed above, the total variation distance is moderately close to 0. (The lack of convergence to 0 is due to the a truncated Poisson distribution is used in computation.) This validates the assumption."
   ]
  },
  {
   "cell_type": "markdown",
   "metadata": {},
   "source": [
    "### Replication"
   ]
  },
  {
   "cell_type": "code",
   "execution_count": 56,
   "metadata": {
    "collapsed": false
   },
   "outputs": [
    {
     "data": {
      "text/html": [
       "<div>\n",
       "<table border=\"1\" class=\"dataframe\">\n",
       "  <thead>\n",
       "    <tr style=\"text-align: right;\">\n",
       "      <th></th>\n",
       "      <th>0</th>\n",
       "      <th>1</th>\n",
       "      <th>2</th>\n",
       "      <th>3</th>\n",
       "      <th>4</th>\n",
       "      <th>5</th>\n",
       "      <th>6</th>\n",
       "      <th>7</th>\n",
       "      <th>8</th>\n",
       "      <th>9</th>\n",
       "      <th>total</th>\n",
       "      <th>chi-square</th>\n",
       "      <th>p</th>\n",
       "    </tr>\n",
       "  </thead>\n",
       "  <tbody>\n",
       "    <tr>\n",
       "      <th>biyashee_colony_cnts</th>\n",
       "      <td>564</td>\n",
       "      <td>324</td>\n",
       "      <td>463</td>\n",
       "      <td>313</td>\n",
       "      <td>290</td>\n",
       "      <td>478</td>\n",
       "      <td>336</td>\n",
       "      <td>408</td>\n",
       "      <td>383</td>\n",
       "      <td>526</td>\n",
       "      <td>4085</td>\n",
       "      <td>200.725826</td>\n",
       "      <td>2.333780e-38</td>\n",
       "    </tr>\n",
       "    <tr>\n",
       "      <th>biyashee_coulter_cnts</th>\n",
       "      <td>475</td>\n",
       "      <td>613</td>\n",
       "      <td>736</td>\n",
       "      <td>416</td>\n",
       "      <td>335</td>\n",
       "      <td>732</td>\n",
       "      <td>363</td>\n",
       "      <td>425</td>\n",
       "      <td>372</td>\n",
       "      <td>718</td>\n",
       "      <td>5185</td>\n",
       "      <td>466.874638</td>\n",
       "      <td>7.062273e-95</td>\n",
       "    </tr>\n",
       "    <tr>\n",
       "      <th>other_colony_cnts</th>\n",
       "      <td>191</td>\n",
       "      <td>181</td>\n",
       "      <td>195</td>\n",
       "      <td>179</td>\n",
       "      <td>184</td>\n",
       "      <td>175</td>\n",
       "      <td>178</td>\n",
       "      <td>185</td>\n",
       "      <td>185</td>\n",
       "      <td>181</td>\n",
       "      <td>1834</td>\n",
       "      <td>1.790622</td>\n",
       "      <td>9.943625e-01</td>\n",
       "    </tr>\n",
       "    <tr>\n",
       "      <th>other_coulter_cnts</th>\n",
       "      <td>261</td>\n",
       "      <td>311</td>\n",
       "      <td>295</td>\n",
       "      <td>259</td>\n",
       "      <td>318</td>\n",
       "      <td>290</td>\n",
       "      <td>298</td>\n",
       "      <td>283</td>\n",
       "      <td>331</td>\n",
       "      <td>296</td>\n",
       "      <td>2942</td>\n",
       "      <td>15.994562</td>\n",
       "      <td>6.699524e-02</td>\n",
       "    </tr>\n",
       "    <tr>\n",
       "      <th>outside_coulter_cnts1</th>\n",
       "      <td>28</td>\n",
       "      <td>34</td>\n",
       "      <td>29</td>\n",
       "      <td>25</td>\n",
       "      <td>27</td>\n",
       "      <td>36</td>\n",
       "      <td>44</td>\n",
       "      <td>33</td>\n",
       "      <td>26</td>\n",
       "      <td>33</td>\n",
       "      <td>315</td>\n",
       "      <td>9.476190</td>\n",
       "      <td>3.945273e-01</td>\n",
       "    </tr>\n",
       "    <tr>\n",
       "      <th>outside_coulter_cnts2</th>\n",
       "      <td>34</td>\n",
       "      <td>38</td>\n",
       "      <td>45</td>\n",
       "      <td>35</td>\n",
       "      <td>32</td>\n",
       "      <td>42</td>\n",
       "      <td>31</td>\n",
       "      <td>35</td>\n",
       "      <td>35</td>\n",
       "      <td>33</td>\n",
       "      <td>360</td>\n",
       "      <td>4.944444</td>\n",
       "      <td>8.391240e-01</td>\n",
       "    </tr>\n",
       "    <tr>\n",
       "      <th>outside_colony_cnts</th>\n",
       "      <td>21</td>\n",
       "      <td>9</td>\n",
       "      <td>15</td>\n",
       "      <td>16</td>\n",
       "      <td>19</td>\n",
       "      <td>19</td>\n",
       "      <td>9</td>\n",
       "      <td>19</td>\n",
       "      <td>11</td>\n",
       "      <td>12</td>\n",
       "      <td>150</td>\n",
       "      <td>12.133333</td>\n",
       "      <td>2.058966e-01</td>\n",
       "    </tr>\n",
       "  </tbody>\n",
       "</table>\n",
       "</div>"
      ],
      "text/plain": [
       "                         0    1    2    3    4    5    6    7    8    9  \\\n",
       "biyashee_colony_cnts   564  324  463  313  290  478  336  408  383  526   \n",
       "biyashee_coulter_cnts  475  613  736  416  335  732  363  425  372  718   \n",
       "other_colony_cnts      191  181  195  179  184  175  178  185  185  181   \n",
       "other_coulter_cnts     261  311  295  259  318  290  298  283  331  296   \n",
       "outside_coulter_cnts1   28   34   29   25   27   36   44   33   26   33   \n",
       "outside_coulter_cnts2   34   38   45   35   32   42   31   35   35   33   \n",
       "outside_colony_cnts     21    9   15   16   19   19    9   19   11   12   \n",
       "\n",
       "                       total  chi-square             p  \n",
       "biyashee_colony_cnts    4085  200.725826  2.333780e-38  \n",
       "biyashee_coulter_cnts   5185  466.874638  7.062273e-95  \n",
       "other_colony_cnts       1834    1.790622  9.943625e-01  \n",
       "other_coulter_cnts      2942   15.994562  6.699524e-02  \n",
       "outside_coulter_cnts1    315    9.476190  3.945273e-01  \n",
       "outside_coulter_cnts2    360    4.944444  8.391240e-01  \n",
       "outside_colony_cnts      150   12.133333  2.058966e-01  "
      ]
     },
     "metadata": {},
     "output_type": "display_data"
    }
   ],
   "source": [
    "def termd_count(df):\n",
    "    '''counts the terminal digit in dataframe df. df must have c1, c2, c3'''\n",
    "    c1_termd = df['c1'].mod(10).value_counts().sort_index()\n",
    "    c2_termd = df['c2'].mod(10).value_counts().sort_index()\n",
    "    c3_termd = df['c3'].mod(10).value_counts().sort_index()\n",
    "    return list(c1_termd + c2_termd + c3_termd)\n",
    "\n",
    "# corresponds to table 3 in Pitt and Hill\n",
    "table3 = pd.DataFrame([termd_count(biyashee_colony_cnts),\n",
    "                       termd_count(biyashee_coulter_cnts),\n",
    "                       termd_count(other_colony_cnts),\n",
    "                       termd_count(other_coulter_cnts),\n",
    "                       termd_count(outside_coulter_cnts1),\n",
    "                       termd_count(outside_coulter_cnts2),\n",
    "                       termd_count(outside_colony_cnts)],\n",
    "                      columns = range(10))\n",
    "table3['index'] = pd.Series(['biyashee_colony_cnts', 'biyashee_coulter_cnts',\n",
    "                             'other_colony_cnts', 'other_coulter_cnts',\n",
    "                             'outside_coulter_cnts1', 'outside_coulter_cnts2',\n",
    "                             'outside_colony_cnts'],\n",
    "                            index=table3.index)\n",
    "table3.set_index('index', inplace=True)\n",
    "table3.index.name = None\n",
    "table3['total'] = table3.sum(axis=1)\n",
    "table3['chi-square'] = 0\n",
    "for i in range(10):\n",
    "    table3['chi-square'] += (table3[i] - table3['total'] / 10) ** 2 / (table3['total'] / 10)\n",
    "table3['p'] = stats.chisqprob(table3['chi-square'], 9)\n",
    "display(table3)"
   ]
  },
  {
   "cell_type": "markdown",
   "metadata": {},
   "source": [
    "Although the `total` column in the paper does not add up correctly, fixing it did not change the p-values much."
   ]
  },
  {
   "cell_type": "markdown",
   "metadata": {},
   "source": [
    "### Alternative analysis: Permutation test\n",
    "\n",
    "Step 1. Pool all the samples together."
   ]
  },
  {
   "cell_type": "code",
   "execution_count": 58,
   "metadata": {
    "collapsed": false
   },
   "outputs": [],
   "source": [
    "# pool all samples:\n",
    "def pool_all_samples(dfs):\n",
    "    samples = np.array([])\n",
    "    for df in dfs:\n",
    "        samples = np.append(samples,df[['c1', 'c2', 'c3']].values.flatten())\n",
    "    return samples\n",
    "\n",
    "coulter_dfs = [biyashee_coulter_cnts,\n",
    "               other_coulter_cnts,\n",
    "               outside_coulter_cnts1,\n",
    "               outside_coulter_cnts2]\n",
    "\n",
    "colony_dfs = [biyashee_colony_cnts,\n",
    "              other_colony_cnts,\n",
    "              outside_colony_cnts]\n",
    "\n",
    "\n",
    "coulter_samples = pool_all_samples(coulter_dfs)\n",
    "colony_samples = pool_all_samples(colony_dfs)"
   ]
  },
  {
   "cell_type": "markdown",
   "metadata": {},
   "source": [
    "Step 2. Permutation test for how far sample is from uniform"
   ]
  },
  {
   "cell_type": "code",
   "execution_count": 59,
   "metadata": {
    "collapsed": true
   },
   "outputs": [],
   "source": [
    "def chi_squared_term_digit(samples):\n",
    "    chi_squared = 0\n",
    "    termd = samples % 10\n",
    "    for i in range(10):\n",
    "        ni = np.count_nonzero(termd == i)\n",
    "        N = len(samples) # TODO fix to remove non-numbers\n",
    "        chi_squared += (ni - N / 10.) ** 2 / (N / 10)\n",
    "    return chi_squared\n",
    "        \n",
    "\n",
    "def perm_test(pooled_samples, n, n_perm, test_statistic):\n",
    "    '''\n",
    "    pooled_samples = all samples \n",
    "    n = number of samples in group of interest\n",
    "    test_statistic = value of observed test statistic to plot against\n",
    "    n_iter = number of iterations\n",
    "    '''\n",
    "    test_statistics = np.array([])\n",
    "    for i in range(n_perm):\n",
    "        # take 1st n samples\n",
    "        samples = pooled_samples[np.random.permutation(len(pooled_samples))[0:n]]  #array(i[0:n])\n",
    "        # compute test statistic on these samples\n",
    "        test_statistics = np.append(test_statistics, chi_squared_term_digit(samples))\n",
    "\n",
    "    # Plotting a sample draw (optional)\n",
    "    plt.hist(test_statistics, bins=50)\n",
    "    plt.show()\n",
    "    \n",
    "    return np.count_nonzero(test_statistics > test_statistic) / float(len(test_statistics))"
   ]
  },
  {
   "cell_type": "markdown",
   "metadata": {},
   "source": [
    "Step 3a. Perform the permutation test on coulter samples."
   ]
  },
  {
   "cell_type": "code",
   "execution_count": 69,
   "metadata": {
    "collapsed": false
   },
   "outputs": [
    {
     "data": {
      "image/png": "[encoded data removed]",
      "text/plain": [
       "<matplotlib.figure.Figure at 0x11054d748>"
      ]
     },
     "metadata": {},
     "output_type": "display_data"
    },
    {
     "name": "stdout",
     "output_type": "stream",
     "text": [
      "Permutation Test on Coulter Samples\n",
      "Size of sameple: 5187\n",
      "Test statistic: 466.6953923269712\n",
      "Probability that sample permutation >= test statistic: 0.000e+00\n"
     ]
    }
   ],
   "source": [
    "test_samples = pool_all_samples([biyashee_coulter_cnts])\n",
    "n = len(test_samples)\n",
    "n_perm = 10000\n",
    "test_statistic = chi_squared_term_digit(test_samples)\n",
    "test_result = perm_test(coulter_samples, n, n_perm, test_statistic)\n",
    "\n",
    "print(\"Permutation Test on Coulter Samples\")\n",
    "print(\"Size of sameple: {0}\".format(n))\n",
    "print(\"Test statistic: {0}\".format(test_statistic))\n",
    "print(\"Probability that sample permutation >= test statistic: {0:1.3e}\".format(test_result))"
   ]
  },
  {
   "cell_type": "markdown",
   "metadata": {},
   "source": [
    "Step 3b. Perform the permutation test on colony samples."
   ]
  },
  {
   "cell_type": "code",
   "execution_count": 70,
   "metadata": {
    "collapsed": false
   },
   "outputs": [
    {
     "data": {
      "image/png": "[encoded data removed]",
      "text/plain": [
       "<matplotlib.figure.Figure at 0x11054d400>"
      ]
     },
     "metadata": {},
     "output_type": "display_data"
    },
    {
     "name": "stdout",
     "output_type": "stream",
     "text": [
      "Permutation Test on Coulter Samples\n",
      "Size of sameple: 4086\n",
      "Test statistic: 200.67694566813506\n",
      "Probability that sample permutation >= test statistic: 0.000e+00\n"
     ]
    }
   ],
   "source": [
    "test_samples = pool_all_samples([biyashee_colony_cnts])\n",
    "n = len(test_samples)\n",
    "n_perm = 10000\n",
    "test_statistic = chi_squared_term_digit(test_samples)\n",
    "test_result = perm_test(colony_samples, n, n_perm, test_statistic)\n",
    "\n",
    "print(\"Permutation Test on Coulter Samples\")\n",
    "print(\"Size of sameple: {0}\".format(n))\n",
    "print(\"Test statistic: {0}\".format(test_statistic))\n",
    "print(\"Probability that sample permutation >= test statistic: {0:1.3e}\".format(test_result))"
   ]
  },
  {
   "cell_type": "markdown",
   "metadata": {},
   "source": [
    "## Equal Digit Analysis\n",
    "### Assumption check"
   ]
  },
  {
   "cell_type": "code",
   "execution_count": 62,
   "metadata": {
    "collapsed": false
   },
   "outputs": [
    {
     "data": {
      "text/plain": [
       "[<matplotlib.lines.Line2D at 0x110684e10>]"
      ]
     },
     "execution_count": 62,
     "metadata": {},
     "output_type": "execute_result"
    },
    {
     "data": {
      "image/png": "[encoded data removed]",
      "text/plain": [
       "<matplotlib.figure.Figure at 0x11074aa20>"
      ]
     },
     "metadata": {},
     "output_type": "display_data"
    }
   ],
   "source": [
    "def term2d_poisson_tv(mu):\n",
    "    '''computes the total variation distance of the terminal digit distribution against uniform'''\n",
    "    # Computes the probability mass, tail probability disregarded\n",
    "    num_comp = np.ceil(stats.poisson.ppf(0.999, mu) / 100) * 100\n",
    "    prob = stats.poisson.pmf(np.arange(100, num_comp), mu)\n",
    "    # Normalization by 1-norm\n",
    "    prob = prob / np.linalg.norm(prob, 1)\n",
    "    # Reshaping prob into 10 columns so each row can be added\n",
    "    prob = np.reshape(prob, (-1, 100))\n",
    "    return np.sum(prob[:, 0:100:11])\n",
    "\n",
    "v_term2d_poisson_tv = np.vectorize(term2d_poisson_tv)\n",
    "# Range of mu we are plotting\n",
    "x = np.arange(100, 2000)\n",
    "plt.plot(x, v_term2d_poisson_tv(x))"
   ]
  },
  {
   "cell_type": "markdown",
   "metadata": {},
   "source": [
    "Since a lot of the counts by RTS are around 100, the assumption of 10% is not very valid in this regime. This is porticularly troublesome when the true parameter $\\lambda$ is smaller than or comparable to 100. It is significantly more likely to observe 100 than 111, upsetting the uniform distribution assumption. Subject to imprecision of model specification, it does not seem that unlikely that RTS has a ~12% matching last two digits."
   ]
  }
 ],
 "metadata": {
  "anaconda-cloud": {},
  "kernelspec": {
   "display_name": "Python 3",
   "language": "python",
   "name": "python3"
  },
  "language_info": {
   "codemirror_mode": {
    "name": "ipython",
    "version": 3
   },
   "file_extension": ".py",
   "mimetype": "text/x-python",
   "name": "python",
   "nbconvert_exporter": "python",
   "pygments_lexer": "ipython3",
   "version": "3.5.2"
  }
 },
 "nbformat": 4,
 "nbformat_minor": 0
}
