{
 "cells": [
  {
   "cell_type": "markdown",
   "metadata": {},
   "source": [
    "## Introduction\n",
    "TODO: Yiyi writes outline here."
   ]
  },
  {
   "cell_type": "markdown",
   "metadata": {},
   "source": [
    "## Reading data"
   ]
  },
  {
   "cell_type": "code",
   "execution_count": 1,
   "metadata": {
    "collapsed": false
   },
   "outputs": [],
   "source": [
    "%matplotlib inline\n",
    "import matplotlib.pyplot as plt\n",
    "import pandas as pd\n",
    "import numpy as np\n",
    "import scipy.stats as stats\n",
    "import itertools\n",
    "\n",
    "# Reading data\n",
    "biyashee_colony_cnts = pd.read_csv('data/Bishayee Colony Counts 10.27.97-3.8.01.csv', skiprows=2)\n",
    "biyashee_coulter_cnts = pd.read_csv('data/Bishayee Coulter Counts.10.20.97-7.16.01.csv', skiprows=1)\n",
    "other_colony_cnts = pd.read_csv('data/Other Investigators in Lab.Colony Counts.4.23.92-11.27.02.csv', skiprows=1)\n",
    "other_coulter_cnts = pd.read_csv('data/Other Investigators in Lab.Coulter Counts.4.15.92-5.21.05.csv', skiprows=1)\n",
    "outside_coulter_cnts1 = pd.read_csv('data/Outside Lab 1.Coulter Counts.6.7.91-4.9.99.csv')\n",
    "outside_coulter_cnts2 = pd.read_csv('data/Outside Lab 2.Coulter Counts.6.6.08-7.7.08.csv', skiprows=1)\n",
    "outside_colony_cnts =  pd.read_csv('data/Outside Lab 3.Colony Counts.2.4.10-5.21.12.csv', skiprows=1)\n",
    "\n",
    "# standardizing column names for dataframes\n",
    "biyashee_colony_cnts.columns = ['Isotope', 'Bates', 'Date', 'c1', 'c2', 'c3', 'avg']\n",
    "biyashee_coulter_cnts.columns = ['Bates', 'Date', 'c1', 'c2', 'c3', 'avg']\n",
    "other_colony_cnts.columns = ['Bates', 'Date', 'Inv', 'c1', 'c2', 'c3', 'avg']\n",
    "other_coulter_cnts.columns = ['Bates', 'Date', 'c1', 'c2', 'c3', 'avg', 'Inv']\n",
    "outside_coulter_cnts1.columns = ['Experiment', 'c1', 'c2', 'c3', 'avg', 'Date']\n",
    "outside_coulter_cnts2.columns = ['Date', 'c1', 'c2', 'c3', 'avg']\n",
    "outside_colony_cnts.columns = ['Date', 'c1', 'c2', 'c3', 'avg']\n",
    "\n",
    "# converting to numerics\n",
    "biyashee_colony_cnts['c3'] = pd.to_numeric(biyashee_colony_cnts['c3'], errors = 'coerce')\n",
    "other_colony_cnts['c3'] = pd.to_numeric(other_colony_cnts['c3'], errors = 'coerce')\n",
    "\n",
    "# filling in experiment and date info\n",
    "def fill_na(df, column):\n",
    "    df[column] = df[column].fillna(method='ffill')\n",
    "\n",
    "fill_na(outside_coulter_cnts1, 'Experiment')\n",
    "fill_na(outside_coulter_cnts1, 'Date')\n",
    "fill_na(outside_coulter_cnts2, 'Date')\n",
    "fill_na(outside_colony_cnts, 'Date')"
   ]
  },
  {
   "cell_type": "markdown",
   "metadata": {},
   "source": [
    "## Triplicate Mean Count ##\n",
    "### Alternative Analysis: Permutation Test ###\n",
    "Step 1. Pool all the samples together. I only took the triplicate counts and recomputed the average in the next step."
   ]
  },
  {
   "cell_type": "code",
   "execution_count": 2,
   "metadata": {
    "collapsed": false
   },
   "outputs": [],
   "source": [
    "# pool all samples for triplicate testing:\n",
    "def triplicate_pool_all_samples(dfs):\n",
    "    samples = dfs[0][['c1', 'c2', 'c3']]\n",
    "    for df in dfs[1:]:\n",
    "        samples = samples.append(df[['c1', 'c2', 'c3']], ignore_index=True)\n",
    "    return samples\n",
    "\n",
    "coulter_dfs = [biyashee_coulter_cnts,\n",
    "               other_coulter_cnts,\n",
    "               outside_coulter_cnts1,\n",
    "               outside_coulter_cnts2]\n",
    "\n",
    "colony_dfs = [biyashee_colony_cnts,\n",
    "              other_colony_cnts,\n",
    "              outside_colony_cnts]\n",
    "\n",
    "coulter_samples = triplicate_pool_all_samples(coulter_dfs)\n",
    "colony_samples = triplicate_pool_all_samples(colony_dfs)"
   ]
  },
  {
   "cell_type": "markdown",
   "metadata": {},
   "source": [
    "Step 2. Calculate the average and check if each triplicate contains the mean for the pooled samples."
   ]
  },
  {
   "cell_type": "code",
   "execution_count": 3,
   "metadata": {
    "collapsed": false
   },
   "outputs": [],
   "source": [
    "import warnings\n",
    "warnings.filterwarnings('ignore')\n",
    "\n",
    "def contains_mean(df_row):\n",
    "    '''returns true if any of c1, c2 or c3 equals the triplicate average '''\n",
    "    return (df_row['mean'] == df_row['c1'] or \n",
    "            df_row['mean'] == df_row['c2'] or \n",
    "            df_row['mean'] == df_row['c3'])\n",
    "\n",
    "# clean up data and add a new column to the data frame indicating if the triplicate contains its rounded mean\n",
    "def triplicate_has_mean(df):\n",
    "    '''\n",
    "    append df with an extra column of booleans \n",
    "    indicating if each row of triplicate contains its own mean'''\n",
    "    # drop NA values and convert c1, c2, c3 to int type\n",
    "    df = df.dropna()\n",
    "    df[['c1', 'c2', 'c3']] = df[['c1', 'c2', 'c3']].astype(int)\n",
    "    \n",
    "    # calculate mean and append a new column of mean values to df\n",
    "    df['mean'] = df.mean(axis = 1).round(0).astype(int)\n",
    "\n",
    "    # calculate if each row of triplicate contains its own mean and append a new boolean column to df\n",
    "    # df['contains_mean'] = df.apply(lambda x: contains_mean(x), axis = 1)\n",
    "    df['contains_mean'] = df.apply(contains_mean, axis = 1)\n",
    "    \n",
    "    return df\n",
    "\n",
    "coulter_samples_mean = triplicate_has_mean(coulter_samples)\n",
    "colony_samples_mean = triplicate_has_mean(colony_samples)"
   ]
  },
  {
   "cell_type": "markdown",
   "metadata": {},
   "source": [
    "Step 3. Permutation test for triplicate count test."
   ]
  },
  {
   "cell_type": "code",
   "execution_count": 4,
   "metadata": {
    "collapsed": true
   },
   "outputs": [],
   "source": [
    "import random\n",
    "def tri_perm_test(pooled_samples, n, n_perm, test_statistic):\n",
    "    '''permutation test for triplicate mean counts'''\n",
    "    x = []\n",
    "    for i in range(n_perm):\n",
    "        x.append(sum(random.sample(pooled_samples, n)))\n",
    "    x = np.asarray(x)\n",
    "    plt.hist(x, bins=100)\n",
    "    plt.show()\n",
    "    print (\"maximum values in the permutation sampling: \", max(x))\n",
    "\n",
    "    return np.count_nonzero(x >= test_statistic) / float(len(x))"
   ]
  },
  {
   "cell_type": "markdown",
   "metadata": {},
   "source": [
    "Step 4a. Perform the permutation test on coulter samples."
   ]
  },
  {
   "cell_type": "code",
   "execution_count": 5,
   "metadata": {
    "collapsed": false
   },
   "outputs": [
    {
     "data": {
      "image/png": "[encoded data removed]",
      "text/plain": [
       "<matplotlib.figure.Figure at 0x106717650>"
      ]
     },
     "metadata": {},
     "output_type": "display_data"
    },
    {
     "name": "stdout",
     "output_type": "stream",
     "text": [
      "('maximum values in the permutation sampling: ', 154)\n",
      "Permutation Test on Coulter Samples\n",
      "('size of sameple: ', 1716)\n",
      "('test statistic: ', 173)\n",
      "('number of permutation: ', 10000)\n",
      "('the percentage of times sampled permutation >= test statistic: ', 0.0)\n"
     ]
    }
   ],
   "source": [
    "# values of n and test_statistic are obtained from PNAS paper Table 2 (pg 7)\n",
    "n = 1716\n",
    "n_perm = 10000\n",
    "test_statistic = 173\n",
    "\n",
    "# permutation test on coulter samples (and plot the distribution histogram)\n",
    "test_result = tri_perm_test(list(coulter_samples_mean['contains_mean']), n, n_perm, test_statistic)\n",
    "\n",
    "# print out key information as output\n",
    "print(\"Permutation Test on Coulter Samples\")\n",
    "print(\"size of sameple: \", n)\n",
    "print(\"test statistic: \", test_statistic)\n",
    "print(\"number of permutation: \", n_perm)\n",
    "print(\"the percentage of times sampled permutation >= test statistic: \", test_result)"
   ]
  },
  {
   "cell_type": "markdown",
   "metadata": {},
   "source": [
    "Step 4b. Perform the permutation test on colony samples."
   ]
  },
  {
   "cell_type": "code",
   "execution_count": 6,
   "metadata": {
    "collapsed": false
   },
   "outputs": [
    {
     "data": {
      "image/png": "[encoded data removed]",
      "text/plain": [
       "<matplotlib.figure.Figure at 0x106717d50>"
      ]
     },
     "metadata": {},
     "output_type": "display_data"
    },
    {
     "name": "stdout",
     "output_type": "stream",
     "text": [
      "('maximum values in the permutation sampling: ', 602)\n",
      "Permutation Test on Colony Samples\n",
      "('size of sameple: ', 1343)\n",
      "('test statistic: ', 690)\n",
      "('number of permutation: ', 10000)\n",
      "('the percentage of times sampled permutation >= test statistic: ', 0.0)\n"
     ]
    }
   ],
   "source": [
    "# values of n and test_statistic are obtained from PNAS paper Table 2 (pg 7)\n",
    "n = 1343\n",
    "n_perm = 10000\n",
    "test_statistic = 690\n",
    "\n",
    "# permutation test on coulter samples (and plot the distribution histogram)\n",
    "test_result = tri_perm_test(list(colony_samples_mean['contains_mean']), n, n_perm, test_statistic)\n",
    "\n",
    "# print out key information as output\n",
    "print(\"Permutation Test on Colony Samples\")\n",
    "print(\"size of sameple: \", n)\n",
    "print(\"test statistic: \", test_statistic)\n",
    "print(\"number of permutation: \", n_perm)\n",
    "print(\"the percentage of times sampled permutation >= test statistic: \", test_result)"
   ]
  },
  {
   "cell_type": "markdown",
   "metadata": {},
   "source": [
    "### Triplicate Testing in Paper ###\n",
    "#### Hypothesis Testing 1 ####"
   ]
  },
  {
   "cell_type": "code",
   "execution_count": 7,
   "metadata": {
    "collapsed": false
   },
   "outputs": [
    {
     "name": "stdout",
     "output_type": "stream",
     "text": [
      "('RTS data: ', '1.941E-12')\n",
      "('Rest of the lab: ', '1.000E+00')\n"
     ]
    }
   ],
   "source": [
    "p = 0.42\n",
    "\n",
    "n_triplicate_containing_avg = 690\n",
    "n_samples = 1343\n",
    "prob = 1 - stats.binom.cdf(n_triplicate_containing_avg, n_samples, p)\n",
    "print('RTS data: ', format(prob, '1.3E'))\n",
    "\n",
    "n_triplicate_containing_avg = 109\n",
    "n_samples = 572\n",
    "prob = 1 - stats.binom.cdf(n_triplicate_containing_avg, n_samples, p)\n",
    "print('Rest of the lab: ', format(prob, '1.3E'))"
   ]
  },
  {
   "cell_type": "code",
   "execution_count": null,
   "metadata": {
    "collapsed": true
   },
   "outputs": [],
   "source": []
  },
  {
   "cell_type": "markdown",
   "metadata": {},
   "source": [
    "## Terminal digits analysis\n",
    "### Testing the assumptions\n",
    "#### Is the terminal digit of a Poisson variable uniform?"
   ]
  },
  {
   "cell_type": "code",
   "execution_count": 8,
   "metadata": {
    "collapsed": false
   },
   "outputs": [
    {
     "data": {
      "text/plain": [
       "[<matplotlib.lines.Line2D at 0x10b08c590>]"
      ]
     },
     "execution_count": 8,
     "metadata": {},
     "output_type": "execute_result"
    },
    {
     "data": {
      "image/png": "[encoded data removed]",
      "text/plain": [
       "<matplotlib.figure.Figure at 0x10adf2550>"
      ]
     },
     "metadata": {},
     "output_type": "display_data"
    }
   ],
   "source": [
    "# TODO: ADD COMMENT\n",
    "def termd_poisson_tv(mu):\n",
    "    '''computes the total variation distance of the terminal digit distribution against uniform'''\n",
    "    # Computes the probability mass, tail probability disregarded\n",
    "    num_comp = np.ceil(stats.poisson.ppf(0.999, mu) / 10) * 10\n",
    "    prob = stats.poisson.pmf(np.arange(num_comp), mu)\n",
    "    # Normalization by 1-norm\n",
    "    prob = prob / np.linalg.norm(prob, 1)\n",
    "    # Reshaping prob into 10 columns so each row can be added\n",
    "    prob = np.reshape(prob, (-1, 10))\n",
    "    return np.linalg.norm(prob.sum(axis = 0) - np.ones(10) / 10, 1)\n",
    "\n",
    "v_termd_poisson_tv = np.vectorize(termd_poisson_tv)\n",
    "# Range of mu we are plotting\n",
    "x = np.arange(50, 2000)\n",
    "plt.plot(x, v_termd_poisson_tv(x))"
   ]
  },
  {
   "cell_type": "markdown",
   "metadata": {},
   "source": [
    "Since a lot of the counts by RTS is around 500, the assumption of 10% is not very valid in this regime. Subject to imprecision of model specification, it does not seem that unlikely that RTS has a ~12% matching last two digits."
   ]
  },
  {
   "cell_type": "markdown",
   "metadata": {},
   "source": [
    "#### Is the last two digits of a Poisson variable, conditioned on being three or more digits, the same approximately 10% of the time?"
   ]
  },
  {
   "cell_type": "code",
   "execution_count": 9,
   "metadata": {
    "collapsed": false
   },
   "outputs": [
    {
     "data": {
      "text/plain": [
       "[<matplotlib.lines.Line2D at 0x10b0fe810>]"
      ]
     },
     "execution_count": 9,
     "metadata": {},
     "output_type": "execute_result"
    },
    {
     "data": {
      "image/png": "[encoded data removed]",
      "text/plain": [
       "<matplotlib.figure.Figure at 0x10a678850>"
      ]
     },
     "metadata": {},
     "output_type": "display_data"
    }
   ],
   "source": [
    "def term2d_poisson_tv(mu):\n",
    "    '''computes the total variation distance of the terminal digit distribution against uniform'''\n",
    "    # Computes the probability mass, tail probability disregarded\n",
    "    num_comp = np.ceil(stats.poisson.ppf(0.999, mu) / 100) * 100\n",
    "    prob = stats.poisson.pmf(np.arange(100, num_comp), mu)\n",
    "    # Normalization by 1-norm\n",
    "    prob = prob / np.linalg.norm(prob, 1)\n",
    "    # Reshaping prob into 10 columns so each row can be added\n",
    "    prob = np.reshape(prob, (-1, 100))\n",
    "    return np.sum(prob[:, 0:100:11])\n",
    "\n",
    "v_term2d_poisson_tv = np.vectorize(term2d_poisson_tv)\n",
    "# Range of mu we are plotting\n",
    "x = np.arange(100, 2000)\n",
    "plt.plot(x, v_term2d_poisson_tv(x))"
   ]
  },
  {
   "cell_type": "markdown",
   "metadata": {},
   "source": [
    "Since a lot of the counts by RTS is around 500, the assumption of 10% is not very valid in this regime. Subject to imprecision of model specification, it does not seem that unlikely that RTS has a ~12% matching last two digits."
   ]
  },
  {
   "cell_type": "markdown",
   "metadata": {},
   "source": [
    "### Replication"
   ]
  },
  {
   "cell_type": "code",
   "execution_count": 10,
   "metadata": {
    "collapsed": false
   },
   "outputs": [
    {
     "name": "stdout",
     "output_type": "stream",
     "text": [
      "                         0    1    2    3    4    5    6    7    8    9  \\\n",
      "biyashee_colony_cnts   564  324  463  313  290  478  336  408  383  526   \n",
      "biyashee_coulter_cnts  475  613  736  416  335  732  363  425  372  718   \n",
      "other_colony_cnts      191  181  195  179  184  175  178  185  185  181   \n",
      "other_coulter_cnts     261  311  295  259  318  290  298  283  331  296   \n",
      "outside_coulter_cnts1   28   34   29   25   27   36   44   33   26   33   \n",
      "outside_coulter_cnts2   34   38   45   35   32   42   31   35   35   33   \n",
      "outside_colony_cnts     21    9   15   16   19   19    9   19   11   12   \n",
      "\n",
      "                       total  chi-square             p  \n",
      "biyashee_colony_cnts    4085  200.725826  2.333780e-38  \n",
      "biyashee_coulter_cnts   5185  466.874638  7.062273e-95  \n",
      "other_colony_cnts       1834    1.790622  9.943625e-01  \n",
      "other_coulter_cnts      2942   15.994562  6.699524e-02  \n",
      "outside_coulter_cnts1    315    9.476190  3.945273e-01  \n",
      "outside_coulter_cnts2    360    4.944444  8.391240e-01  \n",
      "outside_colony_cnts      150   12.133333  2.058966e-01  \n"
     ]
    }
   ],
   "source": [
    "def termd_count(df):\n",
    "    '''counts the terminal digit in dataframe df. df must have c1, c2, c3'''\n",
    "    c1_termd = df['c1'].mod(10).value_counts().sort_index()\n",
    "    c2_termd = df['c2'].mod(10).value_counts().sort_index()\n",
    "    c3_termd = df['c3'].mod(10).value_counts().sort_index()\n",
    "    return list(c1_termd + c2_termd + c3_termd)\n",
    "\n",
    "# corresponds to table 3 in Pitt and Hill\n",
    "table3 = pd.DataFrame([termd_count(biyashee_colony_cnts),\n",
    "                       termd_count(biyashee_coulter_cnts),\n",
    "                       termd_count(other_colony_cnts),\n",
    "                       termd_count(other_coulter_cnts),\n",
    "                       termd_count(outside_coulter_cnts1),\n",
    "                       termd_count(outside_coulter_cnts2),\n",
    "                       termd_count(outside_colony_cnts)],\n",
    "                      columns = range(10))\n",
    "table3['index'] = pd.Series(['biyashee_colony_cnts', 'biyashee_coulter_cnts',\n",
    "                             'other_colony_cnts', 'other_coulter_cnts',\n",
    "                             'outside_coulter_cnts1', 'outside_coulter_cnts2',\n",
    "                             'outside_colony_cnts'],\n",
    "                            index = table3.index)\n",
    "table3.set_index('index', inplace = True)\n",
    "table3.index.name = None\n",
    "table3['total'] = table3.sum(axis = 1)\n",
    "table3['chi-square'] = 0\n",
    "for i in range(10):\n",
    "    table3['chi-square'] += (table3[i] - table3['total'] / 10) ** 2 / (table3['total'] / 10)\n",
    "table3['p'] = stats.chisqprob(table3['chi-square'], 9)\n",
    "print(table3)"
   ]
  },
  {
   "cell_type": "markdown",
   "metadata": {},
   "source": [
    "Although the `total` column in the paper does not add up correctly, fixing it did not change the p-values much."
   ]
  },
  {
   "cell_type": "markdown",
   "metadata": {},
   "source": [
    "### Alternative analysis: Permutation test"
   ]
  },
  {
   "cell_type": "code",
   "execution_count": 11,
   "metadata": {
    "collapsed": false
   },
   "outputs": [],
   "source": [
    "# pool all samples:\n",
    "def pool_all_samples(dfs):\n",
    "    samples = np.array([])\n",
    "    for df in dfs:\n",
    "        samples = np.append(samples,df[['c1','c2','c3']].values.flatten())\n",
    "    return samples\n",
    "\n",
    "coulter_dfs = [biyashee_coulter_cnts,\n",
    "               other_coulter_cnts,\n",
    "               outside_coulter_cnts1,\n",
    "               outside_coulter_cnts2]\n",
    "\n",
    "colony_dfs = [biyashee_colony_cnts,\n",
    "              other_colony_cnts,\n",
    "              outside_colony_cnts]\n",
    "\n",
    "\n",
    "coulter_samples = pool_all_samples(coulter_dfs)\n",
    "colony_samples = pool_all_samples(colony_dfs)"
   ]
  },
  {
   "cell_type": "code",
   "execution_count": 12,
   "metadata": {
    "collapsed": false
   },
   "outputs": [
    {
     "name": "stdout",
     "output_type": "stream",
     "text": [
      "(8895, 467.3260617760618, '0')\n"
     ]
    }
   ],
   "source": [
    "def chi_squared_term_digit(samples):\n",
    "    chi_squared = 0\n",
    "    termd = samples%10\n",
    "    for i in range(10):\n",
    "        ni = np.count_nonzero(termd==i)\n",
    "        N = len(samples) # TODO fix to remove non-numbers\n",
    "        chi_squared += (ni-N/10.)**2/(N/10)\n",
    "    return chi_squared\n",
    "        \n",
    "\n",
    "\n",
    "def perm_test(pooled_samples, n, n_perm, test_statistic):\n",
    "    '''\n",
    "    pooled_samples = all samples \n",
    "    n = number of samples in group of interest\n",
    "    test_statistic = value of observed test statistic to plot against\n",
    "    n_iter = number of iterations\n",
    "    '''\n",
    "    test_statistics = np.array([])\n",
    "    for i in range(n_perm):\n",
    "        # take 1st n samples\n",
    "        samples = pooled_samples[np.random.permutation(len(pooled_samples))[0:n]]  #array(i[0:n])\n",
    "        # compute test statistic on these samples\n",
    "        test_statistics = np.append(test_statistics, chi_squared_term_digit(samples))\n",
    "    return np.count_nonzero(test_statistics>test_statistic)/float(len(test_statistics))\n",
    "\n",
    "test_samples = pool_all_samples([biyashee_coulter_cnts])\n",
    "n = len(coulter_samples)\n",
    "n_perm = 10000\n",
    "test_statistic = chi_squared_term_digit(test_samples)\n",
    "print (n, test_statistic, \"%.4g\" % perm_test(coulter_samples, n, n_perm, test_statistic))"
   ]
  },
  {
   "cell_type": "code",
   "execution_count": 13,
   "metadata": {
    "collapsed": false
   },
   "outputs": [
    {
     "name": "stdout",
     "output_type": "stream",
     "text": [
      "(6099, 200.97205882352944, 0.0)\n"
     ]
    }
   ],
   "source": [
    "test_samples = pool_all_samples([biyashee_colony_cnts])\n",
    "n = len(colony_samples)\n",
    "n_perm = 10000\n",
    "test_statistic = chi_squared_term_digit(test_samples)\n",
    "print (n, test_statistic, perm_test(colony_samples, n, n_perm, test_statistic))"
   ]
  },
  {
   "cell_type": "code",
   "execution_count": 14,
   "metadata": {
    "collapsed": false
   },
   "outputs": [
    {
     "data": {
      "text/plain": [
       "190.2596525096525"
      ]
     },
     "execution_count": 14,
     "metadata": {},
     "output_type": "execute_result"
    }
   ],
   "source": [
    "samples = coulter_samples[np.random.permutation(len(coulter_samples))[0:5187]]\n",
    "chi_squared_term_digit(samples)"
   ]
  }
 ],
 "metadata": {
  "anaconda-cloud": {},
  "kernelspec": {
   "display_name": "Python 2",
   "language": "python",
   "name": "python2"
  },
  "language_info": {
   "codemirror_mode": {
    "name": "ipython",
    "version": 2
   },
   "file_extension": ".py",
   "mimetype": "text/x-python",
   "name": "python",
   "nbconvert_exporter": "python",
   "pygments_lexer": "ipython2",
   "version": "2.7.8"
  }
 },
 "nbformat": 4,
 "nbformat_minor": 0
}
