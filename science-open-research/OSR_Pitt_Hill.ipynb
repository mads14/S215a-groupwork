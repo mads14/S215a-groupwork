{
 "cells": [
  {
   "cell_type": "markdown",
   "metadata": {},
   "source": [
    "## Introduction\n",
    "Directly editted in the shared LaTex doc. Please feel free to review and revise! :)"
   ]
  },
  {
   "cell_type": "markdown",
   "metadata": {},
   "source": [
    "## Reading data"
   ]
  },
  {
   "cell_type": "code",
   "execution_count": 31,
   "metadata": {
    "collapsed": false
   },
   "outputs": [],
   "source": [
    "from __future__ import division\n",
    "import math\n",
    "import matplotlib.pyplot as plt\n",
    "import pandas as pd\n",
    "import numpy as np\n",
    "import scipy.stats as stats\n",
    "import itertools\n",
    "import random\n",
    "%matplotlib inline"
   ]
  },
  {
   "cell_type": "code",
   "execution_count": 32,
   "metadata": {
    "collapsed": false
   },
   "outputs": [],
   "source": [
    "# Reading data\n",
    "biyashee_colony_cnts = pd.read_csv('data/Bishayee Colony Counts 10.27.97-3.8.01.csv', skiprows=2)\n",
    "biyashee_coulter_cnts = pd.read_csv('data/Bishayee Coulter Counts.10.20.97-7.16.01.csv', skiprows=1)\n",
    "other_colony_cnts = pd.read_csv('data/Other Investigators in Lab.Colony Counts.4.23.92-11.27.02.csv', skiprows=1)\n",
    "other_coulter_cnts = pd.read_csv('data/Other Investigators in Lab.Coulter Counts.4.15.92-5.21.05.csv', skiprows=1)\n",
    "outside_coulter_cnts1 = pd.read_csv('data/Outside Lab 1.Coulter Counts.6.7.91-4.9.99.csv')\n",
    "outside_coulter_cnts2 = pd.read_csv('data/Outside Lab 2.Coulter Counts.6.6.08-7.7.08.csv', skiprows=1)\n",
    "outside_colony_cnts =  pd.read_csv('data/Outside Lab 3.Colony Counts.2.4.10-5.21.12.csv', skiprows=1)\n",
    "\n",
    "# standardizing column names for dataframes\n",
    "biyashee_colony_cnts.columns = ['Isotope', 'Bates', 'Date', 'c1', 'c2', 'c3', 'avg']\n",
    "biyashee_coulter_cnts.columns = ['Bates', 'Date', 'c1', 'c2', 'c3', 'avg']\n",
    "other_colony_cnts.columns = ['Bates', 'Date', 'Inv', 'c1', 'c2', 'c3', 'avg']\n",
    "other_coulter_cnts.columns = ['Bates', 'Date', 'c1', 'c2', 'c3', 'avg', 'Inv']\n",
    "outside_coulter_cnts1.columns = ['Experiment', 'c1', 'c2', 'c3', 'avg', 'Date']\n",
    "outside_coulter_cnts2.columns = ['Date', 'c1', 'c2', 'c3', 'avg']\n",
    "outside_colony_cnts.columns = ['Date', 'c1', 'c2', 'c3', 'avg']\n",
    "\n",
    "# converting to numerics\n",
    "biyashee_colony_cnts['c3'] = pd.to_numeric(biyashee_colony_cnts['c3'], errors = 'coerce')\n",
    "other_colony_cnts['c3'] = pd.to_numeric(other_colony_cnts['c3'], errors = 'coerce')\n",
    "\n",
    "# filling in experiment and date info\n",
    "def fill_na(df, column):\n",
    "    df[column] = df[column].fillna(method='ffill')\n",
    "\n",
    "fill_na(outside_coulter_cnts1, 'Experiment')\n",
    "fill_na(outside_coulter_cnts1, 'Date')\n",
    "fill_na(outside_coulter_cnts2, 'Date')\n",
    "fill_na(outside_colony_cnts, 'Date')"
   ]
  },
  {
   "cell_type": "markdown",
   "metadata": {},
   "source": [
    "### Replicate Table 1 by Simulation"
   ]
  },
  {
   "cell_type": "code",
   "execution_count": 128,
   "metadata": {
    "collapsed": false
   },
   "outputs": [],
   "source": [
    "def MidProb_Sim(Lambda):\n",
    "    N = 100000\n",
    "    a = np.random.poisson(Lambda, 3 * N)\n",
    "    a = a.reshape(-1,3)\n",
    "    # Gap greater than or equal to 2\n",
    "    b = a[np.max(a,axis=1) - np.min(a,axis = 1) >= 2]\n",
    "    c = np.round(np.mean(b,axis = 1)).astype(int)\n",
    "    d = (c == b[:,0]) + (c == b[:,1]) + (c == b[:,2])\n",
    "    return sum(d)/N"
   ]
  },
  {
   "cell_type": "markdown",
   "metadata": {},
   "source": [
    "### Closed form of Mid prob"
   ]
  },
  {
   "cell_type": "markdown",
   "metadata": {},
   "source": [
    "##### Use the closed form equation in appendix"
   ]
  },
  {
   "cell_type": "code",
   "execution_count": 140,
   "metadata": {
    "collapsed": false
   },
   "outputs": [],
   "source": [
    "# from decimal import *\n",
    "def Poisson(n, lamb):\n",
    "    return stats.poisson.pmf(n, lamb)\n",
    "\n",
    "def entry(j,N,lamb):\n",
    "    \n",
    "    P1 = Poisson(range(j,N+1), lamb)\n",
    "    P2 = Poisson(range(0,N+1-j), lamb)\n",
    "    P3 = Poisson(range(j-int(j/2), N + 1 - int(j/2)), lamb)\n",
    "    P4 = (j%2) * Poisson(range(j - int(j/2)-1, N+1-int(j/2)-1), lamb)\n",
    "    return sum(P1*(P3+P4)*P2)\n",
    "\n",
    "def GetN(lamb):\n",
    "    pp = 0\n",
    "    j = -1\n",
    "    while pp < 1 - 10**(-9):\n",
    "        j += 1\n",
    "        pp += Poisson(j, lamb)\n",
    "    return j\n",
    "\n",
    "def MidProb(Lambda):\n",
    "    P_A = 0\n",
    "    N = GetN(Lambda)\n",
    "    for j in range(2, N+1):\n",
    "        P_A += entry(j,N,Lambda)\n",
    "    return P_A * 6"
   ]
  },
  {
   "cell_type": "code",
   "execution_count": 136,
   "metadata": {
    "collapsed": false
   },
   "outputs": [
    {
     "name": "stdout",
     "output_type": "stream",
     "text": [
      "10 loops, best of 3: 110 ms per loop\n"
     ]
    }
   ],
   "source": [
    "%timeit MidProb(100)"
   ]
  },
  {
   "cell_type": "code",
   "execution_count": 127,
   "metadata": {
    "collapsed": false
   },
   "outputs": [
    {
     "name": "stdout",
     "output_type": "stream",
     "text": [
      "10 loops, best of 3: 110 ms per loop\n"
     ]
    }
   ],
   "source": [
    "%timeit MidProb_Sim(100)"
   ]
  },
  {
   "cell_type": "code",
   "execution_count": 161,
   "metadata": {
    "collapsed": false
   },
   "outputs": [
    {
     "name": "stdout",
     "output_type": "stream",
     "text": [
      "500\n",
      "1000\n",
      "1500\n",
      "2000\n"
     ]
    }
   ],
   "source": [
    "# Create table 1 for lambda from 0 to 1999\n",
    "# Warning: This may take a while!!\n",
    "prob_table2 = []\n",
    "i = 0\n",
    "for Lambda in range(2000):\n",
    "    i += 1\n",
    "    if i % 500 == 0:\n",
    "        print(i)\n",
    "    prob_table2.append(MidProb(Lambda))"
   ]
  },
  {
   "cell_type": "markdown",
   "metadata": {},
   "source": [
    "#### Print Table 1"
   ]
  },
  {
   "cell_type": "code",
   "execution_count": 192,
   "metadata": {
    "collapsed": false
   },
   "outputs": [
    {
     "name": "stdout",
     "output_type": "stream",
     "text": [
      "---------------Table 1. Partial MidProb table---------------\n",
      "[[ 0.26702987  0.3718906   0.31731236  0.28050807  0.25429401]\n",
      " [ 0.38697539  0.35930389  0.30879198  0.27459372  0.2499085 ]\n",
      " [ 0.40296909  0.34750552  0.30091739  0.2690492   0.24575101]\n",
      " [ 0.39668663  0.33659691  0.29361874  0.26383824  0.24180244]\n",
      " [ 0.38482301  0.32655474  0.28683384  0.25892911  0.23804582]]\n"
     ]
    }
   ],
   "source": [
    "prob_table1 = np.asarray(prob_table2)\n",
    "print('---------------Table 1. Partial MidProb table---------------')\n",
    "print(prob_table1[1:26].reshape(5,5).T)"
   ]
  },
  {
   "cell_type": "code",
   "execution_count": 195,
   "metadata": {
    "collapsed": false
   },
   "outputs": [
    {
     "name": "stdout",
     "output_type": "stream",
     "text": [
      "0.402969086424\n"
     ]
    }
   ],
   "source": [
    "# Check if prob never exceeds 0.42\n",
    "print(max(prob_table1))"
   ]
  },
  {
   "cell_type": "code",
   "execution_count": 193,
   "metadata": {
    "collapsed": false
   },
   "outputs": [],
   "source": [
    "np.savetxt('TableI.csv',prob_table1, fmt='%10.5f')"
   ]
  },
  {
   "cell_type": "markdown",
   "metadata": {},
   "source": [
    "### Closed form mid prob and simulated mid prob are comparable"
   ]
  },
  {
   "cell_type": "code",
   "execution_count": 169,
   "metadata": {
    "collapsed": false
   },
   "outputs": [
    {
     "name": "stdout",
     "output_type": "stream",
     "text": [
      "Mid Prob (lambda = 20) produced by simulation:  0.25848\n",
      "Mid Prob (lambda = 20) produced by closed form solution:  0.258929106006\n"
     ]
    }
   ],
   "source": [
    "print('Mid Prob (lambda = 20) produced by simulation: ', MidProb_Sim(20))\n",
    "print('Mid Prob (lambda = 20) produced by closed form solution: ', MidProb(20))"
   ]
  },
  {
   "cell_type": "markdown",
   "metadata": {},
   "source": [
    "## Triplicate Mean Count\n",
    "### Replication\n",
    "#### Hypothesis Testing 1"
   ]
  },
  {
   "cell_type": "code",
   "execution_count": 6,
   "metadata": {
    "collapsed": false
   },
   "outputs": [
    {
     "name": "stdout",
     "output_type": "stream",
     "text": [
      "RTS data:  2.853E-12\n",
      "Rest of the lab:  1.000E+00\n"
     ]
    }
   ],
   "source": [
    "p = 0.42\n",
    "\n",
    "n_triplicate_containing_avg = 690\n",
    "n_samples = 1343\n",
    "prob = stats.binom.sf(n_triplicate_containing_avg - 1, n_samples, p)\n",
    "print('RTS data: ', format(prob, '1.3E'))\n",
    "\n",
    "n_triplicate_containing_avg = 109\n",
    "n_samples = 572\n",
    "prob = stats.binom.sf(n_triplicate_containing_avg - 1, n_samples, p)\n",
    "print('Rest of the lab: ', format(prob, '1.3E'))"
   ]
  },
  {
   "cell_type": "markdown",
   "metadata": {},
   "source": [
    "### Hypothesis Testing II & III\n",
    "#### Replicating Table 2"
   ]
  },
  {
   "cell_type": "markdown",
   "metadata": {},
   "source": [
    "#### This Panel Needs R and rpy2 Installed \n",
    "Works well on a linux machine"
   ]
  },
  {
   "cell_type": "code",
   "execution_count": 40,
   "metadata": {
    "collapsed": true
   },
   "outputs": [],
   "source": [
    "import readline\n",
    "from rpy2.robjects.packages import importr\n",
    "from rpy2.robjects import FloatVector\n",
    "import rpy2.robjects as ro"
   ]
  },
  {
   "cell_type": "markdown",
   "metadata": {},
   "source": [
    "### Colonies Count"
   ]
  },
  {
   "cell_type": "code",
   "execution_count": 225,
   "metadata": {
    "collapsed": false
   },
   "outputs": [],
   "source": [
    "class Testing:\n",
    "    \"\"\"\n",
    "    Input: \n",
    "        rawData: dataframe of the count file;\n",
    "        N_mean: number of samples include its own rounded mean\n",
    "        prob_table: probability table presented in table 1\n",
    "    Output:\n",
    "        Test statistics (all listed in table 2):\n",
    "            No. expected\n",
    "            Sd\n",
    "            Z\n",
    "            p value\n",
    "    \"\"\"\n",
    "    def __init__(self, rawData, N_mean, prob_table, GAP):\n",
    "        self.rawdata = rawData\n",
    "        self.N_mean = N_mean\n",
    "        self.gap = GAP\n",
    "        self.prob_table = prob_table\n",
    "        \n",
    "        self.rawData, self.prob = self.GetTestData()\n",
    "        self.T_Stats = self.TestStats()\n",
    "\n",
    "    def GetTestData(self):\n",
    "        raw_dataframe = self.rawdata[['c1','c2','c3']].dropna()\n",
    "        print('Total Sample Size: ', raw_dataframe.shape[0])\n",
    "        raw_dataframe['gap'] = raw_dataframe[['c1','c2','c3']].apply(lambda x: np.max(x) - np.min(x), axis = 1)\n",
    "        raw_dataframe = raw_dataframe[raw_dataframe.gap >= self.gap]\n",
    "        print('Complete Sample Size: ', raw_dataframe.shape[0])\n",
    "        \n",
    "        raw_dataframe['Mean'] = np.round(raw_dataframe[['c1','c2','c3']].mean(axis = 1)).astype(int)\n",
    "        \n",
    "        try:\n",
    "            raw_dataframe['prob'] = raw_dataframe.Mean.apply(lambda x: self.prob_table[x])\n",
    "        except:\n",
    "            raw_dataframe['prob'] = raw_dataframe.Mean.apply(lambda x: MidProb(x))\n",
    "\n",
    "        prob = raw_dataframe.prob.values\n",
    "\n",
    "        return raw_dataframe, prob\n",
    "\n",
    "    def TestStats(self):\n",
    "        Mu = sum(self.prob)\n",
    "        Std = np.sqrt(self.prob.dot(1 - self.prob))\n",
    "        Z = (self.N_mean - 0.5 - Mu)/Std\n",
    "        \n",
    "        poibin = importr('poibin')\n",
    "        pvalue = 1 - poibin.ppoibin(self.N_mean - 1, FloatVector(self.prob.tolist()))[0]\n",
    "        print('------------------------------')\n",
    "        print('NO.expected: ', Mu)\n",
    "        print('Sd: ', Std)\n",
    "        print('Z: ', Z)\n",
    "        print('p >= k: ', pvalue)\n",
    "        print('------------------------------')\n",
    "        return(Mu, Std, Z, pvalue)"
   ]
  },
  {
   "cell_type": "markdown",
   "metadata": {},
   "source": [
    "##### RTS"
   ]
  },
  {
   "cell_type": "code",
   "execution_count": 230,
   "metadata": {
    "collapsed": false
   },
   "outputs": [
    {
     "name": "stdout",
     "output_type": "stream",
     "text": [
      "Total Sample Size:  1361\n",
      "Complete Sample Size:  1343\n",
      "------------------------------\n",
      "NO.expected:  214.923602107\n",
      "Sd:  13.2817921411\n",
      "Z:  35.7313525805\n",
      "p >= k:  3.6637359812630166e-15\n",
      "------------------------------\n"
     ]
    }
   ],
   "source": [
    "# Test results using complete samples\n",
    "RTS = Testing(biyashee_colony_cnts, 690, prob_table2, 2)"
   ]
  },
  {
   "cell_type": "code",
   "execution_count": 227,
   "metadata": {
    "collapsed": false
   },
   "outputs": [
    {
     "name": "stdout",
     "output_type": "stream",
     "text": [
      "Total Sample Size:  1361\n",
      "Complete Sample Size:  1361\n",
      "------------------------------\n",
      "NO.expected:  220.313684235\n",
      "Sd:  13.4181445463\n",
      "Z:  34.9665569743\n",
      "p >= k:  0.0\n",
      "------------------------------\n"
     ]
    }
   ],
   "source": [
    "# Test results using total samples\n",
    "RTS = Testing(biyashee_colony_cnts, 690, prob_table2, 0)"
   ]
  },
  {
   "cell_type": "markdown",
   "metadata": {},
   "source": [
    "##### Others"
   ]
  },
  {
   "cell_type": "code",
   "execution_count": 229,
   "metadata": {
    "collapsed": false
   },
   "outputs": [
    {
     "name": "stdout",
     "output_type": "stream",
     "text": [
      "Total Sample Size:  597\n",
      "Complete Sample Size:  578\n",
      "------------------------------\n",
      "NO.expected:  103.40456652\n",
      "Sd:  9.06166644089\n",
      "Z:  0.56230644921\n",
      "p >= k:  0.28438666731499607\n",
      "------------------------------\n"
     ]
    }
   ],
   "source": [
    "Others = Testing(other_colony_cnts, 109, prob_table2,2)"
   ]
  },
  {
   "cell_type": "markdown",
   "metadata": {},
   "source": [
    "##### Outside Lab"
   ]
  },
  {
   "cell_type": "code",
   "execution_count": 228,
   "metadata": {
    "collapsed": false
   },
   "outputs": [
    {
     "name": "stdout",
     "output_type": "stream",
     "text": [
      "Total Sample Size:  50\n",
      "Complete Sample Size:  49\n",
      "------------------------------\n",
      "NO.expected:  7.78826919243\n",
      "Sd:  2.55440142066\n",
      "Z:  -2.07025769311\n",
      "p >= k:  0.9892860552887166\n",
      "------------------------------\n"
     ]
    }
   ],
   "source": [
    "Outside = Testing(outside_colony_cnts, 3, prob_table2,2)"
   ]
  },
  {
   "cell_type": "markdown",
   "metadata": {},
   "source": [
    "### Coulter Count"
   ]
  },
  {
   "cell_type": "markdown",
   "metadata": {},
   "source": [
    "#### RTS"
   ]
  },
  {
   "cell_type": "code",
   "execution_count": null,
   "metadata": {
    "collapsed": false
   },
   "outputs": [],
   "source": [
    "RTS_cou = Testing(biyashee_coulter_cnts, 173, prob_table2)"
   ]
  },
  {
   "cell_type": "markdown",
   "metadata": {},
   "source": [
    "#### Others"
   ]
  },
  {
   "cell_type": "code",
   "execution_count": null,
   "metadata": {
    "collapsed": false
   },
   "outputs": [],
   "source": [
    "Other_cou = Testing(other_coulter_cnts, 36, prob_table2)"
   ]
  },
  {
   "cell_type": "markdown",
   "metadata": {},
   "source": [
    "#### Outside Lab I"
   ]
  },
  {
   "cell_type": "code",
   "execution_count": null,
   "metadata": {
    "collapsed": false
   },
   "outputs": [],
   "source": [
    "Out1_cou = Testing(outside_coulter_cnts1, 0, prob_table2)"
   ]
  },
  {
   "cell_type": "markdown",
   "metadata": {},
   "source": [
    "#### Outside Lab II"
   ]
  },
  {
   "cell_type": "code",
   "execution_count": null,
   "metadata": {
    "collapsed": false
   },
   "outputs": [],
   "source": [
    "Out2_cou = Testing(outside_coulter_cnts2, 1, prob_table2)"
   ]
  },
  {
   "cell_type": "markdown",
   "metadata": {},
   "source": [
    "### Alternative Analysis: Permutation Test\n",
    "As an alternative test, we conducted permutation test on the same coulter and colony data sets to verify the conclusion from the earlier section. For this, we first pooled together all the sample data for coulter and colony counts respectively. We then drew random samples from the pool, where the size of the sample is equal to that of the RTS individual. Two methods were employed.  \n",
    "\n",
    "Method 1: We first ran a simulation of 10,000 draws. In those 10,000 draws, we counted the number (and proportion) of draws containing equal or more mean-containing triplicates than that observed in RTS individual dataset. After running the simulation a couple times, we noticed that the number (and proportion) of draws containing more mean-containing triplicate is consistently 0. This preliminary test suggested that it is unlikely that the data in RTS individual dataset would have occured by chance.  \n",
    "\n",
    "Method 2: To get a more precise bound on the actual probability, we procede to calculate the probability analytically using a hypergeometric distribution. The exact probabilities of obtaining the same number of mean-containing triplicates as in the RTS individual's dataset was exceedingly small ($< 10^{−10}$) for both coulter and colony datasets, thereby supporting our observations in method 1 and the earlier conclusion.\n",
    "\n",
    "\n",
    "#### Helper Functions ####"
   ]
  },
  {
   "cell_type": "code",
   "execution_count": 33,
   "metadata": {
    "collapsed": false
   },
   "outputs": [],
   "source": [
    "import warnings\n",
    "warnings.filterwarnings('ignore')\n",
    "\n",
    "# pool all samples for triplicate testing\n",
    "def triplicate_pool_all_samples(dfs):\n",
    "    samples = dfs[0][['c1', 'c2', 'c3']]\n",
    "    for df in dfs[1:]:\n",
    "        samples = samples.append(df[['c1', 'c2', 'c3']], ignore_index=True)\n",
    "    return samples\n",
    "\n",
    "# remove rows with adjacent count values \n",
    "def triplicate_remove_consecutives(df):\n",
    "    '''remove triplicate rows with adjacent count values, i.e. max(triplicate count) - min(triplicate count) < 2'''\n",
    "    return df[df[['c1', 'c2', 'c3']].max(axis=1) - df[['c1', 'c2', 'c3']].min(axis=1) >= 2]\n",
    "\n",
    "def helper_contains_mean(df_row):\n",
    "    '''returns true if any of c1, c2 or c3 equals the triplicate average '''\n",
    "    return (df_row['mean'] == df_row['c1'] or \n",
    "            df_row['mean'] == df_row['c2'] or \n",
    "            df_row['mean'] == df_row['c3'])\n",
    "\n",
    "# clean up data and add a new column to the data frame indicating if the triplicate contains its rounded mean\n",
    "def triplicate_has_mean(df):\n",
    "    '''append df with an extra column of booleans indicating if each row of triplicate contains its own mean'''\n",
    "    # drop NA values and convert c1, c2, c3 to int type\n",
    "    df = df.dropna()\n",
    "    df[['c1', 'c2', 'c3']] = df[['c1', 'c2', 'c3']].astype(int)\n",
    "    \n",
    "    # calculate mean and append a new column of mean values to df\n",
    "    df['mean'] = df.mean(axis=1).round(0).astype(int)\n",
    "\n",
    "    # calculate if each row of triplicate contains its own mean and append a new boolean column to df\n",
    "    df['contains_mean'] = df.apply(helper_contains_mean, axis=1)\n",
    "    \n",
    "    return df"
   ]
  },
  {
   "cell_type": "markdown",
   "metadata": {},
   "source": [
    "#### Step 1. Pool all the samples ####"
   ]
  },
  {
   "cell_type": "code",
   "execution_count": 34,
   "metadata": {
    "collapsed": false
   },
   "outputs": [],
   "source": [
    "coulter_dfs = [biyashee_coulter_cnts,\n",
    "               other_coulter_cnts,\n",
    "               outside_coulter_cnts1,\n",
    "               outside_coulter_cnts2]\n",
    "\n",
    "colony_dfs = [biyashee_colony_cnts,\n",
    "              other_colony_cnts,\n",
    "              outside_colony_cnts]\n",
    "\n",
    "coulter_samples = triplicate_pool_all_samples(coulter_dfs)\n",
    "colony_samples = triplicate_pool_all_samples(colony_dfs)"
   ]
  },
  {
   "cell_type": "markdown",
   "metadata": {},
   "source": [
    "#### Step 2. Check for mean-containing triplicate in the pooled samples ####"
   ]
  },
  {
   "cell_type": "code",
   "execution_count": 35,
   "metadata": {
    "collapsed": true
   },
   "outputs": [],
   "source": [
    "coulter_samples_mean = triplicate_has_mean(coulter_samples)\n",
    "colony_samples_mean = triplicate_has_mean(colony_samples)"
   ]
  },
  {
   "cell_type": "markdown",
   "metadata": {},
   "source": [
    "#### Step 3. Permutation test functions for triplicate count test ####\n",
    "We implemented 2 types of permutation tests. One performed simulations of n_sim random samplings, and the other calculated the theoretical probability of obtaining test_statisc or more of mean-containing triplicates."
   ]
  },
  {
   "cell_type": "code",
   "execution_count": 41,
   "metadata": {
    "collapsed": false
   },
   "outputs": [],
   "source": [
    "def tri_perm_test_sampling(pooled_samples, n, n_perm, test_statistic):\n",
    "    '''permutation test for triplicate mean counts'''\n",
    "    x = []\n",
    "    for i in range(n_perm):\n",
    "        x.append(sum(random.sample(pooled_samples, n)))\n",
    "    x = np.asarray(x)\n",
    "    print \"Ploting permutation histogram with random \", n_perm, \" samplings\"\n",
    "    plt.hist(x, bins=100)\n",
    "    plt.show()\n",
    "    print \"maximum values in the permutation sampling: \", max(x)\n",
    "\n",
    "    return np.count_nonzero(x >= test_statistic) / float(len(x))\n",
    "\n",
    "def tri_perm_test_theoretical(pooled_samples, n, test_statistic):\n",
    "    '''permutation test for triplicate mean counts\n",
    "    pooled_samples should be a series'''\n",
    "    \n",
    "    # rv is the hypergeometric variable in question\n",
    "    rv = stats.hypergeom(pooled_samples.size, pooled_samples.sum(), n)\n",
    "    \n",
    "    # Plotting a sample draw (optional)\n",
    "    (lower, upper) = rv.interval(0.9999)\n",
    "    x = np.arange(lower, upper)\n",
    "    print \"Ploting hypergeometric pmf with n equal to \", n\n",
    "    plt.plot(x, rv.pmf(x))\n",
    "    plt.show()\n",
    "    \n",
    "    # pooled_samples.size is the total number of triplets\n",
    "    # pooled_samples.sum() is the number of marked triplets\n",
    "    # n is the number of sampels drawn\n",
    "    return rv.sf(test_statistic - 1)"
   ]
  },
  {
   "cell_type": "markdown",
   "metadata": {},
   "source": [
    "#### Step 4.a Perform the permutation test on all coulter and colony samples. ####"
   ]
  },
  {
   "cell_type": "code",
   "execution_count": 42,
   "metadata": {
    "collapsed": false
   },
   "outputs": [],
   "source": [
    "# values of n and test_statistic are obtained from PNAS paper Table 2 (pg 7)\n",
    "n_coulter = 1727\n",
    "n_colony = 1361\n",
    "test_statistic_coulter = 177\n",
    "test_statistic_colony = 708\n",
    "n_sim = 10000"
   ]
  },
  {
   "cell_type": "markdown",
   "metadata": {},
   "source": [
    "##### 4.a.1 Coulter Counts #####"
   ]
  },
  {
   "cell_type": "code",
   "execution_count": 43,
   "metadata": {
    "collapsed": false
   },
   "outputs": [
    {
     "name": "stdout",
     "output_type": "stream",
     "text": [
      "Ploting permutation histogram with random  10000  samplings\n"
     ]
    },
    {
     "data": {
      "image/png": "[encoded data removed]",
      "text/plain": [
       "<matplotlib.figure.Figure at 0x11a9e17d0>"
      ]
     },
     "metadata": {},
     "output_type": "display_data"
    },
    {
     "name": "stdout",
     "output_type": "stream",
     "text": [
      "maximum values in the permutation sampling:  153\n"
     ]
    }
   ],
   "source": [
    "# permutation test by sampling on coulter samples (and plot the distribution histogram)\n",
    "test_result_sampling = tri_perm_test_sampling(coulter_samples_mean['contains_mean'], n_coulter, n_sim, test_statistic_coulter)"
   ]
  },
  {
   "cell_type": "code",
   "execution_count": 44,
   "metadata": {
    "collapsed": false
   },
   "outputs": [
    {
     "name": "stdout",
     "output_type": "stream",
     "text": [
      "Ploting hypergeometric pmf with n equal to  1727\n"
     ]
    },
    {
     "data": {
      "image/png": "[encoded data removed]",
      "text/plain": [
       "<matplotlib.figure.Figure at 0x11a9c5710>"
      ]
     },
     "metadata": {},
     "output_type": "display_data"
    },
    {
     "name": "stdout",
     "output_type": "stream",
     "text": [
      "Permutation Test on Coulter Samples\n",
      "Size of sameple:  1727\n",
      "Test statistic:  177\n",
      "Probability that sample permutation >= test statistic:  1.334E-13\n"
     ]
    }
   ],
   "source": [
    "# pmf of hypergeometric distribution for coulter samples\n",
    "test_result_theory = tri_perm_test_theoretical(coulter_samples_mean['contains_mean'], n_coulter, test_statistic_coulter)\n",
    "\n",
    "# print out key information as output\n",
    "print \"Permutation Test on Coulter Samples\"\n",
    "print \"Size of sameple: \", n_coulter\n",
    "print \"Test statistic: \", test_statistic_coulter\n",
    "print \"Probability that sample permutation >= test statistic: \", format(test_result_theory, '1.3E')"
   ]
  },
  {
   "cell_type": "markdown",
   "metadata": {},
   "source": [
    "##### 4.a.2 Colony Counts #####"
   ]
  },
  {
   "cell_type": "code",
   "execution_count": 45,
   "metadata": {
    "collapsed": false
   },
   "outputs": [
    {
     "name": "stdout",
     "output_type": "stream",
     "text": [
      "Ploting permutation histogram with random  10000  samplings\n"
     ]
    },
    {
     "data": {
      "image/png": "[encoded data removed]",
      "text/plain": [
       "<matplotlib.figure.Figure at 0x11a2694d0>"
      ]
     },
     "metadata": {},
     "output_type": "display_data"
    },
    {
     "name": "stdout",
     "output_type": "stream",
     "text": [
      "maximum values in the permutation sampling:  607\n"
     ]
    }
   ],
   "source": [
    "# permutation test by sampling on coulter samples (and plot the distribution histogram)\n",
    "test_result_sampling = tri_perm_test_sampling(colony_samples_mean['contains_mean'], n_colony, n_sim, test_statistic_colony)"
   ]
  },
  {
   "cell_type": "code",
   "execution_count": 46,
   "metadata": {
    "collapsed": false
   },
   "outputs": [
    {
     "name": "stdout",
     "output_type": "stream",
     "text": [
      "Ploting hypergeometric pmf with n equal to  1361\n"
     ]
    },
    {
     "data": {
      "image/png": "[encoded data removed]",
      "text/plain": [
       "<matplotlib.figure.Figure at 0x11ad37b10>"
      ]
     },
     "metadata": {},
     "output_type": "display_data"
    },
    {
     "name": "stdout",
     "output_type": "stream",
     "text": [
      "Permutation Test on Colony Samples\n",
      "Size of sameple:  1361\n",
      "Test statistic:  708\n",
      "Probability that sampled permutation >= test statistic:  2.404E-43\n"
     ]
    }
   ],
   "source": [
    "# pmf of hypergeometric distribution for coulter samples\n",
    "test_result_theory = tri_perm_test_theoretical(colony_samples_mean['contains_mean'], n_colony, test_statistic_colony)\n",
    "\n",
    "# print out key information as output\n",
    "print \"Permutation Test on Colony Samples\"\n",
    "print \"Size of sameple: \", n_colony\n",
    "print \"Test statistic: \", test_statistic_colony\n",
    "print \"Probability that sampled permutation >= test statistic: \", format(test_result_theory, '1.3E')"
   ]
  },
  {
   "cell_type": "markdown",
   "metadata": {},
   "source": [
    "#### Step 4.b Perform the permutation test on all coulter and colony samples MINUS triplicates with adjacent counts. ####"
   ]
  },
  {
   "cell_type": "code",
   "execution_count": 47,
   "metadata": {
    "collapsed": true
   },
   "outputs": [],
   "source": [
    "n_coulter = 1726\n",
    "n_colony = 1343\n",
    "test_statistic_coulter = 173\n",
    "test_statistic_colony = 690\n",
    "n_sim = 10000\n",
    "\n",
    "coulter_samples_mean = triplicate_remove_consecutives(coulter_samples_mean)\n",
    "colony_samples_mean = triplicate_remove_consecutives(colony_samples_mean)"
   ]
  },
  {
   "cell_type": "markdown",
   "metadata": {},
   "source": [
    "##### 4.b.1 Coulter Counts #####"
   ]
  },
  {
   "cell_type": "code",
   "execution_count": 48,
   "metadata": {
    "collapsed": false
   },
   "outputs": [
    {
     "name": "stdout",
     "output_type": "stream",
     "text": [
      "Ploting permutation histogram with random  10000  samplings\n"
     ]
    },
    {
     "data": {
      "image/png": "[encoded data removed]",
      "text/plain": [
       "<matplotlib.figure.Figure at 0x119f43e10>"
      ]
     },
     "metadata": {},
     "output_type": "display_data"
    },
    {
     "name": "stdout",
     "output_type": "stream",
     "text": [
      "maximum values in the permutation sampling:  151\n"
     ]
    }
   ],
   "source": [
    "# permutation test by sampling on coulter samples (and plot the distribution histogram)\n",
    "test_result_sampling = tri_perm_test_sampling(coulter_samples_mean['contains_mean'], n_coulter, n_sim, test_statistic_coulter)"
   ]
  },
  {
   "cell_type": "code",
   "execution_count": 49,
   "metadata": {
    "collapsed": false
   },
   "outputs": [
    {
     "name": "stdout",
     "output_type": "stream",
     "text": [
      "Ploting hypergeometric pmf with n equal to  1726\n"
     ]
    },
    {
     "data": {
      "image/png": "[encoded data removed]",
      "text/plain": [
       "<matplotlib.figure.Figure at 0x119f439d0>"
      ]
     },
     "metadata": {},
     "output_type": "display_data"
    },
    {
     "name": "stdout",
     "output_type": "stream",
     "text": [
      "Permutation Test on Coulter Samples\n",
      "Size of sameple:  1726\n",
      "Test statistic:  173\n",
      "Probability that sample permutation >= test statistic:  6.317E-12\n"
     ]
    }
   ],
   "source": [
    "# pmf of hypergeometric distribution for coulter samples\n",
    "test_result_theory = tri_perm_test_theoretical(coulter_samples_mean['contains_mean'], n_coulter, test_statistic_coulter)\n",
    "\n",
    "# print out key information as output\n",
    "print \"Permutation Test on Coulter Samples\"\n",
    "print \"Size of sameple: \", n_coulter\n",
    "print \"Test statistic: \", test_statistic_coulter\n",
    "print \"Probability that sample permutation >= test statistic: \", format(test_result_theory, '1.3E')"
   ]
  },
  {
   "cell_type": "markdown",
   "metadata": {},
   "source": [
    "##### 4.b.2 Colony Counts #####"
   ]
  },
  {
   "cell_type": "code",
   "execution_count": 50,
   "metadata": {
    "collapsed": false
   },
   "outputs": [
    {
     "name": "stdout",
     "output_type": "stream",
     "text": [
      "Ploting permutation histogram with random  10000  samplings\n"
     ]
    },
    {
     "data": {
      "image/png": "[encoded data removed]",
      "text/plain": [
       "<matplotlib.figure.Figure at 0x11aabcf10>"
      ]
     },
     "metadata": {},
     "output_type": "display_data"
    },
    {
     "name": "stdout",
     "output_type": "stream",
     "text": [
      "maximum values in the permutation sampling:  584\n"
     ]
    }
   ],
   "source": [
    "# permutation test by sampling on coulter samples (and plot the distribution histogram)\n",
    "test_result_sampling = tri_perm_test_sampling(colony_samples_mean['contains_mean'], n_colony, n_sim, test_statistic_colony)"
   ]
  },
  {
   "cell_type": "code",
   "execution_count": 51,
   "metadata": {
    "collapsed": false
   },
   "outputs": [
    {
     "name": "stdout",
     "output_type": "stream",
     "text": [
      "Ploting hypergeometric pmf with n equal to  1343\n"
     ]
    },
    {
     "data": {
      "image/png": "[encoded data removed]",
      "text/plain": [
       "<matplotlib.figure.Figure at 0x11a471390>"
      ]
     },
     "metadata": {},
     "output_type": "display_data"
    },
    {
     "name": "stdout",
     "output_type": "stream",
     "text": [
      "Permutation Test on Colony Samples\n",
      "Size of sameple:  1343\n",
      "Test statistic:  690\n",
      "Probability that sampled permutation >= test statistic:  2.964E-48\n"
     ]
    }
   ],
   "source": [
    "# pmf of hypergeometric distribution for coulter samples\n",
    "test_result_theory = tri_perm_test_theoretical(colony_samples_mean['contains_mean'], n_colony, test_statistic_colony)\n",
    "\n",
    "# print out key information as output\n",
    "print \"Permutation Test on Colony Samples\"\n",
    "print \"Size of sameple: \", n_colony\n",
    "print \"Test statistic: \", test_statistic_colony\n",
    "print \"Probability that sampled permutation >= test statistic: \", format(test_result_theory, '1.3E')"
   ]
  },
  {
   "cell_type": "markdown",
   "metadata": {},
   "source": [
    "## Mid-ratio test\n",
    "\n",
    "### Expeceted percent of samples with mid-ratio [.40,.60]\n",
    "For all integer values of $\\lambda$ from 1 to 2000, we simmulate 10,000 poisson triplicates and calculate the mid-ratio for each triplicate. Here the mid-ratio is defined as the ratio of the difference between the median and the smallest value of the triplicate to the difference between the largest and smallest value of the triplicate. \n",
    "We then calculate the percentage of mid-ratios that fall in the interval [0.4, 0.6]. Our results match with those reported in the paper - the percent of mid ratio test in the interval [0.4, 0.6] never exceeds 0.26."
   ]
  },
  {
   "cell_type": "code",
   "execution_count": 52,
   "metadata": {
    "collapsed": false
   },
   "outputs": [
    {
     "data": {
      "text/plain": [
       "<matplotlib.text.Text at 0x119eb0090>"
      ]
     },
     "execution_count": 52,
     "metadata": {},
     "output_type": "execute_result"
    },
    {
     "data": {
      "image/png": "[encoded data removed]",
      "text/plain": [
       "<matplotlib.figure.Figure at 0x11a9a3a10>"
      ]
     },
     "metadata": {},
     "output_type": "display_data"
    }
   ],
   "source": [
    "# simulate poison\n",
    "def mid_ratio(x):\n",
    "    # x = n x 3 matrix of poisson variables\n",
    "    return (np.median(x,1)-np.min(x,1))/(np.max(x,1)-np.min(x,1))\n",
    "\n",
    "def mid_ratio_40_60(x):\n",
    "    # x = n-vector of mid-ratios\n",
    "    # returns the percent of samples that have mid-ratio in [.40,.60]\n",
    "    return np.count_nonzero((x>=.4) & (x<=.6))/float(len(x))\n",
    "\n",
    "def midratio_poisson_tv(lam, n_sim):\n",
    "    sim_poisson = stats.poisson.rvs(lam, size = 3*n_sim)\n",
    "    sim_poisson = sim_poisson.reshape((-1,3))\n",
    "    mid_ratios = mid_ratio(sim_poisson)\n",
    "    return mid_ratio_40_60(mid_ratios)\n",
    "\n",
    "\n",
    "v_midratio_poisson_tv = np.vectorize(midratio_poisson_tv)\n",
    "# Range of mu we are plotting\n",
    "x = np.arange(1, 2000)\n",
    "plt.plot(x, v_midratio_poisson_tv(x, 10000))\n",
    "plt.xlabel('lambda')\n",
    "plt.ylabel('Probability mid-ratio in [0.40, 0.60]')\n",
    "    "
   ]
  },
  {
   "cell_type": "markdown",
   "metadata": {},
   "source": [
    "Pitt and Hill report that the RTS investigator has a high number of triplicates with a mid-ratio value in the interval [0.4, 0.6], but they do not actually report how unlikely such a result is.\n",
    "\n",
    "From our investigation, we find that 824 of 1362 colony counts and 523 of 1729 coulter counts produced by the RTS investigator have a mid-ratio value in the interval [0.4, 0.6]. If, as Pitt and Hill suggest, we model the probability of mid-ratio in [0.4, 0.6] as a Bernouli process and conservatively assign the probability of success, p = 0.26, then the probability of observing 824 or more successes in 1362 colony count trials is 1.11e-16. The probability of observing 523 or more successes in 1729 coulter count triplicates is 3.26e-5. Both corroborate the idea that it is very unlikely that a Poisson process produced this many triplicates with midratios in the interval [0.4, 0.6]. \n",
    "\n",
    "However, we do take issue with the fact that Pitt and Hill decided to perform this test after observing \"what appeared to be an unusual frequency of triples in RTS data containing a value close to their mean. Other investigators  besides RTS may well have trends that make their data look anomylous, and that would also have a low probability of happening by chance."
   ]
  },
  {
   "cell_type": "code",
   "execution_count": 53,
   "metadata": {
    "collapsed": false
   },
   "outputs": [
    {
     "name": "stdout",
     "output_type": "stream",
     "text": [
      "824 of 1362 RTS colony triplicates have mid-ratios in interval [0.4,0.6]\n",
      "523 of 1729 RTS coulter triplicates have mid-ratios in interval [0.4,0.6]\n",
      "p of seeing at least 824 of 1362 triplicates with mid-ratios in interval [0.4,0.6] = 1.11e-16\n",
      "p of seeing at least 523 of 1729 triplicates with mid-ratios in interval [0.4,0.6] = 3.262e-05\n"
     ]
    }
   ],
   "source": [
    "rts_mid_ratios_colony = mid_ratio(biyashee_colony_cnts[['c1','c2','c3']].values)\n",
    "rts_mid_ratio_count_colony = mid_ratio_40_60(rts_mid_ratios_colony) * len(rts_mid_ratios_colony)\n",
    "print '%i of %i RTS colony triplicates have mid-ratios in interval [0.4,0.6]' %(rts_mid_ratio_count_colony,\n",
    "                                                                                len(rts_mid_ratios_colony))\n",
    "\n",
    "rts_mid_ratios_coulter = mid_ratio(biyashee_coulter_cnts[['c1','c2','c3']].values)\n",
    "rts_mid_ratio_count_coulter = mid_ratio_40_60(rts_mid_ratios_coulter) * len(rts_mid_ratios_coulter)\n",
    "print '%i of %i RTS coulter triplicates have mid-ratios in interval [0.4,0.6]' %(rts_mid_ratio_count_coulter,\n",
    "                                                                                len(rts_mid_ratios_coulter))\n",
    "\n",
    "prob_rts_mid_ratio_colony = 1-stats.binom.cdf(rts_mid_ratio_count_colony,len(rts_mid_ratios_colony),.26)\n",
    "prob_rts_mid_ratio_coulter =  1-stats.binom.cdf(rts_mid_ratio_count_coulter,len(rts_mid_ratios_coulter),.26)\n",
    "\n",
    "print 'p of seeing at least %i of %i triplicates with mid-ratios in interval [0.4,0.6] = %.4g' %(\n",
    "    rts_mid_ratio_count_colony,len(rts_mid_ratios_colony),prob_rts_mid_ratio_colony)\n",
    "print 'p of seeing at least %i of %i triplicates with mid-ratios in interval [0.4,0.6] = %.4g' %(\n",
    "    rts_mid_ratio_count_coulter,len(rts_mid_ratios_coulter),prob_rts_mid_ratio_coulter)"
   ]
  },
  {
   "cell_type": "markdown",
   "metadata": {},
   "source": [
    "## Terminal digits analysis\n",
    "### Testing the assumptions\n",
    "#### Is the terminal digit of a Poisson variable uniform?\n",
    "For each `mu`, we compute its total variation distance of the terminal digit distribution again the uniform distribution. We generate a vector containing 99.9% its probability mass. We reshape it into an array with 10 columns, allowing us to add the probability mass by terminal digits."
   ]
  },
  {
   "cell_type": "code",
   "execution_count": 54,
   "metadata": {
    "collapsed": false
   },
   "outputs": [
    {
     "data": {
      "text/plain": [
       "[<matplotlib.lines.Line2D at 0x1198eef90>]"
      ]
     },
     "execution_count": 54,
     "metadata": {},
     "output_type": "execute_result"
    },
    {
     "data": {
      "image/png": "[encoded data removed]",
      "text/plain": [
       "<matplotlib.figure.Figure at 0x116e75b90>"
      ]
     },
     "metadata": {},
     "output_type": "display_data"
    }
   ],
   "source": [
    "def termd_poisson_tv(mu):\n",
    "    '''computes the total variation distance of the terminal digit distribution against uniform'''\n",
    "    # Computes the probability mass, tail probability disregarded\n",
    "    num_comp = np.ceil(stats.poisson.ppf(0.999, mu) / 10) * 10\n",
    "    prob = stats.poisson.pmf(np.arange(num_comp), mu)\n",
    "    # Normalization by 1-norm\n",
    "    prob = prob / np.linalg.norm(prob, 1)\n",
    "    # Reshaping prob into 10 columns so each row can be added\n",
    "    prob = np.reshape(prob, (-1, 10))\n",
    "    return np.linalg.norm(prob.sum(axis=0) - np.ones(10) / 10, 1)\n",
    "\n",
    "v_termd_poisson_tv = np.vectorize(termd_poisson_tv)\n",
    "# Range of mu we are plotting\n",
    "x = np.arange(50, 2000)\n",
    "plt.plot(x, v_termd_poisson_tv(x))"
   ]
  },
  {
   "cell_type": "markdown",
   "metadata": {},
   "source": [
    "As observed above, the total variation distance is moderately close to 0. (The lack of convergence to 0 is due to the a truncated Poisson distribution is used in computation.) This validates the assumption."
   ]
  },
  {
   "cell_type": "markdown",
   "metadata": {},
   "source": [
    "#### Is the last two digits of a Poisson variable, conditioned on being three or more digits, the same approximately 10% of the time?"
   ]
  },
  {
   "cell_type": "code",
   "execution_count": 55,
   "metadata": {
    "collapsed": false
   },
   "outputs": [
    {
     "data": {
      "text/plain": [
       "[<matplotlib.lines.Line2D at 0x1198eedd0>]"
      ]
     },
     "execution_count": 55,
     "metadata": {},
     "output_type": "execute_result"
    },
    {
     "data": {
      "image/png": "[encoded data removed]",
      "text/plain": [
       "<matplotlib.figure.Figure at 0x1196b0390>"
      ]
     },
     "metadata": {},
     "output_type": "display_data"
    }
   ],
   "source": [
    "def term2d_poisson_tv(mu):\n",
    "    '''computes the total variation distance of the terminal digit distribution against uniform'''\n",
    "    # Computes the probability mass, tail probability disregarded\n",
    "    num_comp = np.ceil(stats.poisson.ppf(0.999, mu) / 100) * 100\n",
    "    prob = stats.poisson.pmf(np.arange(100, num_comp), mu)\n",
    "    # Normalization by 1-norm\n",
    "    prob = prob / np.linalg.norm(prob, 1)\n",
    "    # Reshaping prob into 10 columns so each row can be added\n",
    "    prob = np.reshape(prob, (-1, 100))\n",
    "    return np.sum(prob[:, 0:100:11])\n",
    "\n",
    "v_term2d_poisson_tv = np.vectorize(term2d_poisson_tv)\n",
    "# Range of mu we are plotting\n",
    "x = np.arange(100, 2000)\n",
    "plt.plot(x, v_term2d_poisson_tv(x))"
   ]
  },
  {
   "cell_type": "markdown",
   "metadata": {},
   "source": [
    "Since a lot of the counts by RTS are around 100, the assumption of 10% is not very valid in this regime. This is porticularly troublesome when the true parameter $\\lambda$ is smaller than or comparable to 100. It is significantly more likely to observe 100 than 111, upsetting the uniform distribution assumption. Subject to imprecision of model specification, it does not seem that unlikely that RTS has a ~12% matching last two digits."
   ]
  },
  {
   "cell_type": "markdown",
   "metadata": {},
   "source": [
    "### Replication"
   ]
  },
  {
   "cell_type": "code",
   "execution_count": 56,
   "metadata": {
    "collapsed": false
   },
   "outputs": [
    {
     "data": {
      "text/html": [
       "<div>\n",
       "<table border=\"1\" class=\"dataframe\">\n",
       "  <thead>\n",
       "    <tr style=\"text-align: right;\">\n",
       "      <th></th>\n",
       "      <th>0</th>\n",
       "      <th>1</th>\n",
       "      <th>2</th>\n",
       "      <th>3</th>\n",
       "      <th>4</th>\n",
       "      <th>5</th>\n",
       "      <th>6</th>\n",
       "      <th>7</th>\n",
       "      <th>8</th>\n",
       "      <th>9</th>\n",
       "      <th>total</th>\n",
       "      <th>chi-square</th>\n",
       "      <th>p</th>\n",
       "    </tr>\n",
       "  </thead>\n",
       "  <tbody>\n",
       "    <tr>\n",
       "      <th>biyashee_colony_cnts</th>\n",
       "      <td>564</td>\n",
       "      <td>324</td>\n",
       "      <td>463</td>\n",
       "      <td>313</td>\n",
       "      <td>290</td>\n",
       "      <td>478</td>\n",
       "      <td>336</td>\n",
       "      <td>408</td>\n",
       "      <td>383</td>\n",
       "      <td>526</td>\n",
       "      <td>4085</td>\n",
       "      <td>200.725826</td>\n",
       "      <td>2.333780e-38</td>\n",
       "    </tr>\n",
       "    <tr>\n",
       "      <th>biyashee_coulter_cnts</th>\n",
       "      <td>475</td>\n",
       "      <td>613</td>\n",
       "      <td>736</td>\n",
       "      <td>416</td>\n",
       "      <td>335</td>\n",
       "      <td>732</td>\n",
       "      <td>363</td>\n",
       "      <td>425</td>\n",
       "      <td>372</td>\n",
       "      <td>718</td>\n",
       "      <td>5185</td>\n",
       "      <td>466.874638</td>\n",
       "      <td>7.062273e-95</td>\n",
       "    </tr>\n",
       "    <tr>\n",
       "      <th>other_colony_cnts</th>\n",
       "      <td>191</td>\n",
       "      <td>181</td>\n",
       "      <td>195</td>\n",
       "      <td>179</td>\n",
       "      <td>184</td>\n",
       "      <td>175</td>\n",
       "      <td>178</td>\n",
       "      <td>185</td>\n",
       "      <td>185</td>\n",
       "      <td>181</td>\n",
       "      <td>1834</td>\n",
       "      <td>1.790622</td>\n",
       "      <td>9.943625e-01</td>\n",
       "    </tr>\n",
       "    <tr>\n",
       "      <th>other_coulter_cnts</th>\n",
       "      <td>261</td>\n",
       "      <td>311</td>\n",
       "      <td>295</td>\n",
       "      <td>259</td>\n",
       "      <td>318</td>\n",
       "      <td>290</td>\n",
       "      <td>298</td>\n",
       "      <td>283</td>\n",
       "      <td>331</td>\n",
       "      <td>296</td>\n",
       "      <td>2942</td>\n",
       "      <td>15.994562</td>\n",
       "      <td>6.699524e-02</td>\n",
       "    </tr>\n",
       "    <tr>\n",
       "      <th>outside_coulter_cnts1</th>\n",
       "      <td>28</td>\n",
       "      <td>34</td>\n",
       "      <td>29</td>\n",
       "      <td>25</td>\n",
       "      <td>27</td>\n",
       "      <td>36</td>\n",
       "      <td>44</td>\n",
       "      <td>33</td>\n",
       "      <td>26</td>\n",
       "      <td>33</td>\n",
       "      <td>315</td>\n",
       "      <td>9.476190</td>\n",
       "      <td>3.945273e-01</td>\n",
       "    </tr>\n",
       "    <tr>\n",
       "      <th>outside_coulter_cnts2</th>\n",
       "      <td>34</td>\n",
       "      <td>38</td>\n",
       "      <td>45</td>\n",
       "      <td>35</td>\n",
       "      <td>32</td>\n",
       "      <td>42</td>\n",
       "      <td>31</td>\n",
       "      <td>35</td>\n",
       "      <td>35</td>\n",
       "      <td>33</td>\n",
       "      <td>360</td>\n",
       "      <td>4.944444</td>\n",
       "      <td>8.391240e-01</td>\n",
       "    </tr>\n",
       "    <tr>\n",
       "      <th>outside_colony_cnts</th>\n",
       "      <td>21</td>\n",
       "      <td>9</td>\n",
       "      <td>15</td>\n",
       "      <td>16</td>\n",
       "      <td>19</td>\n",
       "      <td>19</td>\n",
       "      <td>9</td>\n",
       "      <td>19</td>\n",
       "      <td>11</td>\n",
       "      <td>12</td>\n",
       "      <td>150</td>\n",
       "      <td>12.133333</td>\n",
       "      <td>2.058966e-01</td>\n",
       "    </tr>\n",
       "  </tbody>\n",
       "</table>\n",
       "</div>"
      ],
      "text/plain": [
       "                         0    1    2    3    4    5    6    7    8    9  \\\n",
       "biyashee_colony_cnts   564  324  463  313  290  478  336  408  383  526   \n",
       "biyashee_coulter_cnts  475  613  736  416  335  732  363  425  372  718   \n",
       "other_colony_cnts      191  181  195  179  184  175  178  185  185  181   \n",
       "other_coulter_cnts     261  311  295  259  318  290  298  283  331  296   \n",
       "outside_coulter_cnts1   28   34   29   25   27   36   44   33   26   33   \n",
       "outside_coulter_cnts2   34   38   45   35   32   42   31   35   35   33   \n",
       "outside_colony_cnts     21    9   15   16   19   19    9   19   11   12   \n",
       "\n",
       "                       total  chi-square             p  \n",
       "biyashee_colony_cnts    4085  200.725826  2.333780e-38  \n",
       "biyashee_coulter_cnts   5185  466.874638  7.062273e-95  \n",
       "other_colony_cnts       1834    1.790622  9.943625e-01  \n",
       "other_coulter_cnts      2942   15.994562  6.699524e-02  \n",
       "outside_coulter_cnts1    315    9.476190  3.945273e-01  \n",
       "outside_coulter_cnts2    360    4.944444  8.391240e-01  \n",
       "outside_colony_cnts      150   12.133333  2.058966e-01  "
      ]
     },
     "execution_count": 56,
     "metadata": {},
     "output_type": "execute_result"
    }
   ],
   "source": [
    "def termd_count(df):\n",
    "    '''counts the terminal digit in dataframe df. df must have c1, c2, c3'''\n",
    "    c1_termd = df['c1'].mod(10).value_counts().sort_index()\n",
    "    c2_termd = df['c2'].mod(10).value_counts().sort_index()\n",
    "    c3_termd = df['c3'].mod(10).value_counts().sort_index()\n",
    "    return list(c1_termd + c2_termd + c3_termd)\n",
    "\n",
    "# corresponds to table 3 in Pitt and Hill\n",
    "table3 = pd.DataFrame([termd_count(biyashee_colony_cnts),\n",
    "                       termd_count(biyashee_coulter_cnts),\n",
    "                       termd_count(other_colony_cnts),\n",
    "                       termd_count(other_coulter_cnts),\n",
    "                       termd_count(outside_coulter_cnts1),\n",
    "                       termd_count(outside_coulter_cnts2),\n",
    "                       termd_count(outside_colony_cnts)],\n",
    "                      columns = range(10))\n",
    "table3['index'] = pd.Series(['biyashee_colony_cnts', 'biyashee_coulter_cnts',\n",
    "                             'other_colony_cnts', 'other_coulter_cnts',\n",
    "                             'outside_coulter_cnts1', 'outside_coulter_cnts2',\n",
    "                             'outside_colony_cnts'],\n",
    "                            index=table3.index)\n",
    "table3.set_index('index', inplace=True)\n",
    "table3.index.name = None\n",
    "table3['total'] = table3.sum(axis=1)\n",
    "table3['chi-square'] = 0\n",
    "for i in range(10):\n",
    "    table3['chi-square'] += (table3[i] - table3['total'] / 10) ** 2 / (table3['total'] / 10)\n",
    "table3['p'] = stats.chisqprob(table3['chi-square'], 9)\n",
    "table3"
   ]
  },
  {
   "cell_type": "markdown",
   "metadata": {},
   "source": [
    "Although the `total` column in the paper does not add up correctly, fixing it did not change the p-values much."
   ]
  },
  {
   "cell_type": "markdown",
   "metadata": {},
   "source": [
    "### Alternative analysis: Permutation test\n",
    "\n",
    "Step 1. Pool all the samples together."
   ]
  },
  {
   "cell_type": "code",
   "execution_count": 57,
   "metadata": {
    "collapsed": false
   },
   "outputs": [],
   "source": [
    "# pool all samples:\n",
    "def pool_all_samples(dfs):\n",
    "    samples = np.array([])\n",
    "    for df in dfs:\n",
    "        samples = np.append(samples,df[['c1','c2','c3']].values.flatten())\n",
    "    return samples\n",
    "\n",
    "coulter_dfs = [biyashee_coulter_cnts,\n",
    "               other_coulter_cnts,\n",
    "               outside_coulter_cnts1,\n",
    "               outside_coulter_cnts2]\n",
    "\n",
    "colony_dfs = [biyashee_colony_cnts,\n",
    "              other_colony_cnts,\n",
    "              outside_colony_cnts]\n",
    "\n",
    "\n",
    "coulter_samples = pool_all_samples(coulter_dfs)\n",
    "colony_samples = pool_all_samples(colony_dfs)"
   ]
  },
  {
   "cell_type": "markdown",
   "metadata": {},
   "source": [
    "Step 2. Permutation test for how far sample is from uniform"
   ]
  },
  {
   "cell_type": "code",
   "execution_count": 58,
   "metadata": {
    "collapsed": true
   },
   "outputs": [],
   "source": [
    "def chi_squared_term_digit(samples):\n",
    "    chi_squared = 0\n",
    "    termd = samples%10\n",
    "    for i in range(10):\n",
    "        ni = np.count_nonzero(termd == i)\n",
    "        N = len(samples) # TODO fix to remove non-numbers\n",
    "        chi_squared += (ni - N / 10.) ** 2 / (N / 10)\n",
    "    return chi_squared\n",
    "        \n",
    "\n",
    "def perm_test(pooled_samples, n, n_perm, test_statistic):\n",
    "    '''\n",
    "    pooled_samples = all samples \n",
    "    n = number of samples in group of interest\n",
    "    test_statistic = value of observed test statistic to plot against\n",
    "    n_iter = number of iterations\n",
    "    '''\n",
    "    test_statistics = np.array([])\n",
    "    for i in range(n_perm):\n",
    "        # take 1st n samples\n",
    "        samples = pooled_samples[np.random.permutation(len(pooled_samples))[0:n]]  #array(i[0:n])\n",
    "        # compute test statistic on these samples\n",
    "        test_statistics = np.append(test_statistics, chi_squared_term_digit(samples))\n",
    "\n",
    "    # Plotting a sample draw (optional)\n",
    "    plt.hist(test_statistics, bins=50)\n",
    "    plt.show()\n",
    "    \n",
    "    return np.count_nonzero(test_statistics>test_statistic)/float(len(test_statistics))"
   ]
  },
  {
   "cell_type": "markdown",
   "metadata": {},
   "source": [
    "Step 3a. Perform the permutation test on coulter samples."
   ]
  },
  {
   "cell_type": "code",
   "execution_count": 59,
   "metadata": {
    "collapsed": false
   },
   "outputs": [
    {
     "data": {
      "image/png": "[encoded data removed]",
      "text/plain": [
       "<matplotlib.figure.Figure at 0x11ad734d0>"
      ]
     },
     "metadata": {},
     "output_type": "display_data"
    },
    {
     "name": "stdout",
     "output_type": "stream",
     "text": [
      "Permutation Test on Coulter Samples\n",
      "Size of sameple:  5187\n",
      "Test statistic:  466.695392327\n",
      "Probability that sample permutation >= test statistic:  0.000E+00\n"
     ]
    }
   ],
   "source": [
    "test_samples = pool_all_samples([biyashee_coulter_cnts])\n",
    "n = len(test_samples)\n",
    "n_perm = 10000\n",
    "test_statistic = chi_squared_term_digit(test_samples)\n",
    "test_result = perm_test(coulter_samples, n, n_perm, test_statistic)\n",
    "\n",
    "print \"Permutation Test on Coulter Samples\"\n",
    "print \"Size of sameple: \", n\n",
    "print \"Test statistic: \", test_statistic\n",
    "print \"Probability that sample permutation >= test statistic: \", format(test_result, '1.3E')"
   ]
  },
  {
   "cell_type": "markdown",
   "metadata": {},
   "source": [
    "Step 3b. Perform the permutation test on colony samples."
   ]
  },
  {
   "cell_type": "code",
   "execution_count": 60,
   "metadata": {
    "collapsed": false
   },
   "outputs": [
    {
     "data": {
      "image/png": "[encoded data removed]",
      "text/plain": [
       "<matplotlib.figure.Figure at 0x11a47e850>"
      ]
     },
     "metadata": {},
     "output_type": "display_data"
    },
    {
     "name": "stdout",
     "output_type": "stream",
     "text": [
      "Permutation Test on Coulter Samples\n",
      "Size of sameple:  4086\n",
      "Test statistic:  200.676945668\n",
      "Probability that sample permutation >= test statistic:  0.000E+00\n"
     ]
    }
   ],
   "source": [
    "test_samples = pool_all_samples([biyashee_colony_cnts])\n",
    "n = len(test_samples)\n",
    "n_perm = 10000\n",
    "test_statistic = chi_squared_term_digit(test_samples)\n",
    "test_result = perm_test(colony_samples, n, n_perm, test_statistic)\n",
    "\n",
    "print \"Permutation Test on Coulter Samples\"\n",
    "print \"Size of sameple: \", n\n",
    "print \"Test statistic: \", test_statistic\n",
    "print \"Probability that sample permutation >= test statistic: \", format(test_result, '1.3E')"
   ]
  }
 ],
 "metadata": {
  "anaconda-cloud": {},
  "kernelspec": {
   "display_name": "Python [py27]",
   "language": "python",
   "name": "Python [py27]"
  },
  "language_info": {
   "codemirror_mode": {
    "name": "ipython",
    "version": 2
   },
   "file_extension": ".py",
   "mimetype": "text/x-python",
   "name": "python",
   "nbconvert_exporter": "python",
   "pygments_lexer": "ipython2",
   "version": "2.7.12"
  }
 },
 "nbformat": 4,
 "nbformat_minor": 0
}
